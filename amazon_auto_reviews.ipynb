{
 "cells": [
  {
   "cell_type": "markdown",
   "metadata": {},
   "source": [
    "### NLP Approach to Modeling Online Reviews\n",
    "#### Using Automotive Reviews from Amazon and the concept of Topic Modeing (LDA)\n",
    "Dataset for amazon automotive reviews [here](http://jmcauley.ucsd.edu/data/amazon/)<br>\n",
    "Insipration from [here](https://www.analyticsvidhya.com/blog/2018/10/mining-online-reviews-topic-modeling-lda/)\n",
    "Topic modeling is a process to automatically identify topics present in a text object & derive hidden patterns exhibitd by a text corpus.  Useful for:\n",
    "* Document clustering\n",
    "* Organizing large blocks of textual data\n",
    "* Info retrieval from unstructured text\n",
    "* Feature selection\n",
    "\n",
    "The goal here is to extract groups of important words from reviews which would help to determine what the customers are talking about in the reviews.\n",
    "\n",
    "More on topic modeling [here](https://www.analyticsvidhya.com/blog/2016/08/beginners-guide-to-topic-modeling-in-python/)\n",
    "LDA - Latent Dirichlet Allocation\n"
   ]
  },
  {
   "cell_type": "markdown",
   "metadata": {},
   "source": [
    "Topic modeling identifies topics present in a text object and one can use it to derive hidden patterns.  Useful for:\n",
    "* Document clustering \n",
    "* Organizing large blocks of textual data\n",
    "* Info retrieval from unstructured text\n",
    "* Feature selection\n",
    "\n",
    "In this notebook, we are extracting groups of important words from reviews.  This will help determine what the consumers are talking about in the reviews."
   ]
  },
  {
   "cell_type": "code",
   "execution_count": 1,
   "metadata": {},
   "outputs": [
    {
     "name": "stderr",
     "output_type": "stream",
     "text": [
      "[nltk_data] Downloading package stopwords to\n",
      "[nltk_data]     /Users/tehila/nltk_data...\n",
      "[nltk_data]   Package stopwords is already up-to-date!\n"
     ]
    },
    {
     "data": {
      "text/plain": [
       "True"
      ]
     },
     "execution_count": 1,
     "metadata": {},
     "output_type": "execute_result"
    }
   ],
   "source": [
    "#import libraries\n",
    "import nltk\n",
    "from nltk import FreqDist\n",
    "from nltk.corpus import stopwords\n",
    "nltk.download('stopwords')\n",
    "\n"
   ]
  },
  {
   "cell_type": "code",
   "execution_count": 2,
   "metadata": {},
   "outputs": [],
   "source": [
    "import pandas as pd\n",
    "pd.set_option(\"display.max_colwidth\", 200)\n",
    "import numpy as np\n",
    "import re\n",
    "import spacy\n",
    "\n",
    "import gensim\n",
    "from gensim import corpora\n",
    "\n",
    "import os\n",
    "\n",
    "#visualtion libraries\n",
    "import pyLDAvis\n",
    "import pyLDAvis.gensim\n",
    "import matplotlib.pyplot as plt\n",
    "import seaborn as sns\n",
    "%matplotlib inline"
   ]
  },
  {
   "cell_type": "code",
   "execution_count": 3,
   "metadata": {},
   "outputs": [
    {
     "name": "stderr",
     "output_type": "stream",
     "text": [
      "/Users/tehila/opt/anaconda3/lib/python3.7/site-packages/ipykernel/ipkernel.py:283: DeprecationWarning: `should_run_async` will not call `transform_cell` automatically in the future. Please pass the result to `transformed_cell` argument and any exception that happen during thetransform in `preprocessing_exc_tuple` in IPython 7.17 and above.\n",
      "  and should_run_async(code)\n"
     ]
    },
    {
     "data": {
      "text/plain": [
       "True"
      ]
     },
     "execution_count": 3,
     "metadata": {},
     "output_type": "execute_result"
    }
   ],
   "source": [
    "#set directory paths\n",
    "root_dir = os.path.abspath('../..')\n",
    "data_dir = os.path.join(root_dir, 'misc_datasets')\n",
    "\n",
    "os.path.exists(root_dir)\n",
    "os.path.exists(data_dir)"
   ]
  },
  {
   "cell_type": "code",
   "execution_count": 4,
   "metadata": {},
   "outputs": [
    {
     "name": "stderr",
     "output_type": "stream",
     "text": [
      "/Users/tehila/opt/anaconda3/lib/python3.7/site-packages/ipykernel/ipkernel.py:283: DeprecationWarning: `should_run_async` will not call `transform_cell` automatically in the future. Please pass the result to `transformed_cell` argument and any exception that happen during thetransform in `preprocessing_exc_tuple` in IPython 7.17 and above.\n",
      "  and should_run_async(code)\n"
     ]
    },
    {
     "data": {
      "text/html": [
       "<div>\n",
       "<style scoped>\n",
       "    .dataframe tbody tr th:only-of-type {\n",
       "        vertical-align: middle;\n",
       "    }\n",
       "\n",
       "    .dataframe tbody tr th {\n",
       "        vertical-align: top;\n",
       "    }\n",
       "\n",
       "    .dataframe thead th {\n",
       "        text-align: right;\n",
       "    }\n",
       "</style>\n",
       "<table border=\"1\" class=\"dataframe\">\n",
       "  <thead>\n",
       "    <tr style=\"text-align: right;\">\n",
       "      <th></th>\n",
       "      <th>reviewerID</th>\n",
       "      <th>asin</th>\n",
       "      <th>reviewerName</th>\n",
       "      <th>helpful</th>\n",
       "      <th>reviewText</th>\n",
       "      <th>overall</th>\n",
       "      <th>summary</th>\n",
       "      <th>unixReviewTime</th>\n",
       "      <th>reviewTime</th>\n",
       "    </tr>\n",
       "  </thead>\n",
       "  <tbody>\n",
       "    <tr>\n",
       "      <th>0</th>\n",
       "      <td>A3F73SC1LY51OO</td>\n",
       "      <td>B00002243X</td>\n",
       "      <td>Alan Montgomery</td>\n",
       "      <td>[4, 4]</td>\n",
       "      <td>I needed a set of jumper cables for my new car and these had good reviews and were at a good price.  They have been used a few times already and do what they are supposed to - no complaints there....</td>\n",
       "      <td>5</td>\n",
       "      <td>Work Well - Should Have Bought Longer Ones</td>\n",
       "      <td>1313539200</td>\n",
       "      <td>08 17, 2011</td>\n",
       "    </tr>\n",
       "    <tr>\n",
       "      <th>1</th>\n",
       "      <td>A20S66SKYXULG2</td>\n",
       "      <td>B00002243X</td>\n",
       "      <td>alphonse</td>\n",
       "      <td>[1, 1]</td>\n",
       "      <td>These long cables work fine for my truck, but the quality seems a little on the shabby side. For the money I was not expecting 200 dollar snap-on jumper cables but these seem more like what you wo...</td>\n",
       "      <td>4</td>\n",
       "      <td>Okay long cables</td>\n",
       "      <td>1315094400</td>\n",
       "      <td>09 4, 2011</td>\n",
       "    </tr>\n",
       "    <tr>\n",
       "      <th>2</th>\n",
       "      <td>A2I8LFSN2IS5EO</td>\n",
       "      <td>B00002243X</td>\n",
       "      <td>Chris</td>\n",
       "      <td>[0, 0]</td>\n",
       "      <td>Can't comment much on these since they have not yet been used (I will come back and update my review is I find any issues after first use) ... but they are built solid, nice tough big hard clamps ...</td>\n",
       "      <td>5</td>\n",
       "      <td>Looks and feels heavy Duty</td>\n",
       "      <td>1374710400</td>\n",
       "      <td>07 25, 2013</td>\n",
       "    </tr>\n",
       "    <tr>\n",
       "      <th>3</th>\n",
       "      <td>A3GT2EWQSO45ZG</td>\n",
       "      <td>B00002243X</td>\n",
       "      <td>DeusEx</td>\n",
       "      <td>[19, 19]</td>\n",
       "      <td>I absolutley love Amazon!!!  For the price of a set of cheap Booster/Jumper Cables in a brick and morter store, you can buy extra long and heavy duty jumpers!  First off, don't be the person that ...</td>\n",
       "      <td>5</td>\n",
       "      <td>Excellent choice for Jumper Cables!!!</td>\n",
       "      <td>1292889600</td>\n",
       "      <td>12 21, 2010</td>\n",
       "    </tr>\n",
       "    <tr>\n",
       "      <th>4</th>\n",
       "      <td>A3ESWJPAVRPWB4</td>\n",
       "      <td>B00002243X</td>\n",
       "      <td>E. Hernandez</td>\n",
       "      <td>[0, 0]</td>\n",
       "      <td>I purchased the 12' feet long cable set and they arrived in a retail cardboard box with handle, which could be used as a storage and carrying case for these cables, although I will not need to sto...</td>\n",
       "      <td>5</td>\n",
       "      <td>Excellent, High Quality Starter Cables</td>\n",
       "      <td>1341360000</td>\n",
       "      <td>07 4, 2012</td>\n",
       "    </tr>\n",
       "  </tbody>\n",
       "</table>\n",
       "</div>"
      ],
      "text/plain": [
       "       reviewerID        asin     reviewerName   helpful  \\\n",
       "0  A3F73SC1LY51OO  B00002243X  Alan Montgomery    [4, 4]   \n",
       "1  A20S66SKYXULG2  B00002243X         alphonse    [1, 1]   \n",
       "2  A2I8LFSN2IS5EO  B00002243X            Chris    [0, 0]   \n",
       "3  A3GT2EWQSO45ZG  B00002243X           DeusEx  [19, 19]   \n",
       "4  A3ESWJPAVRPWB4  B00002243X     E. Hernandez    [0, 0]   \n",
       "\n",
       "                                                                                                                                                                                                reviewText  \\\n",
       "0  I needed a set of jumper cables for my new car and these had good reviews and were at a good price.  They have been used a few times already and do what they are supposed to - no complaints there....   \n",
       "1  These long cables work fine for my truck, but the quality seems a little on the shabby side. For the money I was not expecting 200 dollar snap-on jumper cables but these seem more like what you wo...   \n",
       "2  Can't comment much on these since they have not yet been used (I will come back and update my review is I find any issues after first use) ... but they are built solid, nice tough big hard clamps ...   \n",
       "3  I absolutley love Amazon!!!  For the price of a set of cheap Booster/Jumper Cables in a brick and morter store, you can buy extra long and heavy duty jumpers!  First off, don't be the person that ...   \n",
       "4  I purchased the 12' feet long cable set and they arrived in a retail cardboard box with handle, which could be used as a storage and carrying case for these cables, although I will not need to sto...   \n",
       "\n",
       "   overall                                     summary  unixReviewTime  \\\n",
       "0        5  Work Well - Should Have Bought Longer Ones      1313539200   \n",
       "1        4                            Okay long cables      1315094400   \n",
       "2        5                  Looks and feels heavy Duty      1374710400   \n",
       "3        5       Excellent choice for Jumper Cables!!!      1292889600   \n",
       "4        5      Excellent, High Quality Starter Cables      1341360000   \n",
       "\n",
       "    reviewTime  \n",
       "0  08 17, 2011  \n",
       "1   09 4, 2011  \n",
       "2  07 25, 2013  \n",
       "3  12 21, 2010  \n",
       "4   07 4, 2012  "
      ]
     },
     "execution_count": 4,
     "metadata": {},
     "output_type": "execute_result"
    }
   ],
   "source": [
    "datafile = os.path.join(data_dir,'reviews_Automotive_5.json')\n",
    "df = pd.read_json(datafile, lines=True)\n",
    "df.head()"
   ]
  },
  {
   "cell_type": "markdown",
   "metadata": {},
   "source": [
    "The data contains the following columns:\n",
    "\n",
    "* `reviewerID` – ID of the reviewer\n",
    "* `asin` – ID of the product\n",
    "* `reviewerName` – name of the reviewer\n",
    "* `helpful` – helpfulness rating of the review, e.g. 2/3\n",
    "* `reviewText` – text of the review\n",
    "* `overall` – rating of the product\n",
    "* `summary` – summary of the review\n",
    "* `unixReviewTime` – time of the review (unix time)\n",
    "* `reviewTime` – time of the review (raw)\n",
    "\n",
    "For this analysis we are only using `reviewText`\n"
   ]
  },
  {
   "cell_type": "markdown",
   "metadata": {},
   "source": [
    "#### Data Preprocessing\n",
    "First we will plot a bar graph of n most frequent words.  Then we will remove punctuation, stopwords, and normalize as much as possible."
   ]
  },
  {
   "cell_type": "code",
   "execution_count": 5,
   "metadata": {},
   "outputs": [
    {
     "name": "stderr",
     "output_type": "stream",
     "text": [
      "/Users/tehila/opt/anaconda3/lib/python3.7/site-packages/ipykernel/ipkernel.py:283: DeprecationWarning: `should_run_async` will not call `transform_cell` automatically in the future. Please pass the result to `transformed_cell` argument and any exception that happen during thetransform in `preprocessing_exc_tuple` in IPython 7.17 and above.\n",
      "  and should_run_async(code)\n"
     ]
    }
   ],
   "source": [
    "# %load freq_words.py\n",
    "# function to plot most freq terms\n",
    "def freq_words(x, terms=30):\n",
    "    all_words = ' '.join([text for text in x])\n",
    "    all_words = all_words.split()\n",
    "\n",
    "    fdist = FreqDist(all_words)\n",
    "    words_df = pd.DataFrame({'word': list(fdist.keys()), 'count': list(fdist.values())})\n",
    "\n",
    "    # select top 20 most freq words\n",
    "    d = words_df.nlargest(columns='count', n=terms)\n",
    "    plt.figure(figsize=(20, 5))\n",
    "    ax = sns.barplot(data=d, x='word', y='count')\n",
    "    ax.set(ylabel='Count')\n",
    "    plt.show()"
   ]
  },
  {
   "cell_type": "code",
   "execution_count": 6,
   "metadata": {},
   "outputs": [
    {
     "name": "stderr",
     "output_type": "stream",
     "text": [
      "/Users/tehila/opt/anaconda3/lib/python3.7/site-packages/ipykernel/ipkernel.py:283: DeprecationWarning: `should_run_async` will not call `transform_cell` automatically in the future. Please pass the result to `transformed_cell` argument and any exception that happen during thetransform in `preprocessing_exc_tuple` in IPython 7.17 and above.\n",
      "  and should_run_async(code)\n"
     ]
    },
    {
     "data": {
      "image/png": "[encoded data removed]",
      "text/plain": [
       "<Figure size 1440x360 with 1 Axes>"
      ]
     },
     "metadata": {
      "needs_background": "light"
     },
     "output_type": "display_data"
    }
   ],
   "source": [
    "freq_words(df['reviewText'])"
   ]
  },
  {
   "cell_type": "markdown",
   "metadata": {},
   "source": [
    "Most common words are 'the', 'and', 'to.  We will perform some basic preprocessing and replot the reviews."
   ]
  },
  {
   "cell_type": "code",
   "execution_count": 15,
   "metadata": {},
   "outputs": [
    {
     "name": "stderr",
     "output_type": "stream",
     "text": [
      "/Users/tehila/opt/anaconda3/lib/python3.7/site-packages/ipykernel/ipkernel.py:283: DeprecationWarning: `should_run_async` will not call `transform_cell` automatically in the future. Please pass the result to `transformed_cell` argument and any exception that happen during thetransform in `preprocessing_exc_tuple` in IPython 7.17 and above.\n",
      "  and should_run_async(code)\n"
     ]
    }
   ],
   "source": [
    "# %load basic_preprocess\n",
    "#basic data cleaning preprocessing\n",
    "#\n",
    "#can comment out functions not using after loading\n",
    "\n",
    "#import libraries for function\n",
    "from textblob import TextBlob, Word\n",
    "\n",
    "def basic_preprocess(df,feature):\n",
    "    #remove URLs\n",
    "    def remove_URL(text):\n",
    "        url = re.compile(r'https?://\\S+|www\\.\\S+')\n",
    "        return url.sub(r'',text)\n",
    "    df[feature] = df[feature].apply(lambda x: remove_URL(x))\n",
    "\n",
    "    #remove HTML tags\n",
    "    def remove_html(text):\n",
    "        html = re.compile(r'<.*?>')\n",
    "        return html.sub(r'',text)\n",
    "    df[feature] = df[feature].apply(lambda x: remove_html(x))\n",
    "\n",
    "#     #remove Emojis\n",
    "#     def remove_emoji(text):\n",
    "#         emoji_pattern = re.compile(\"[\"\n",
    "#                                    u\"\\U0001F600-\\U0001F64F\"  # emoticons\n",
    "#                                    u\"\\U0001F300-\\U0001F5FF\"  # symbols & pictographs\n",
    "#                                    u\"\\U0001F680-\\U0001F6FF\"  # transport & map symbols\n",
    "#                                    u\"\\U0001F1E0-\\U0001F1FF\"  # flags (iOS)\n",
    "#                                    u\"\\U00002702-\\U000027B0\"\n",
    "#                                    u\"\\U000024C2-\\U0001F251\"\n",
    "#                                    \"]+\", flags=re.UNICODE)\n",
    "#         return emoji_pattern.sub(r'', text)\n",
    "#     df[feature] = df[feature].apply(lambda x: remove_emoji(x))\n",
    "\n",
    "    #transform to lower case\n",
    "    df[feature] = df[feature].apply(lambda x: ' '.join(x.lower() for x in x.split()))\n",
    "\n",
    "#     #remove characters, symbols\n",
    "#     df[feature] = df[feature].str.replace(r\"[^a-zA-Z0-9]\",\" \")\n",
    "\n",
    "    # remove characters, symbols,and numbers\n",
    "    df[feature] = df[feature].str.replace(r\"[^a-zA-Z#]\", \" \")\n",
    "\n",
    "    #remove stop words\n",
    "    stop = stopwords.words('english')\n",
    "    df[feature] = df[feature].apply(lambda x: ' '.join(x for x in x.split() if x not in stop))\n",
    "\n",
    "    #remove 10 most frequently occuring words\n",
    "    freq = pd.Series(' '.join(df[feature]).split()).value_counts()[:10]\n",
    "    print('Most commonly used words','\\n', freq)\n",
    "    freq = list(freq.index)\n",
    "    df[feature] = df[feature].apply(lambda x: ' '.join(x for x in x.split() if x not in freq))\n",
    "\n",
    "#     #remove rare words\n",
    "#     freq = pd.Series(' '.join(df[feature]).split()).value_counts()[-10:]\n",
    "#     print('Rare words', '\\n', freq)\n",
    "#     freq = list(freq.index)\n",
    "#     df[feature] = df[feature].apply(lambda x: ' '.join(x for x in x.split() if x not in freq))\n",
    "\n",
    "    # remove short words (length < 3)\n",
    "    df[feature] = df[feature].apply(lambda x: ' '.join([w for w in x.split() if len(w) > 2]))\n",
    "\n",
    "    #skip spelling corrections for now\n",
    "    #can use TextBlob to tokenize\n",
    "\n",
    "#     #will use Lemmatization instead of Stemming\n",
    "#     df[feature] = df[feature].apply(lambda x: ' '.join([Word(word).lemmatize() for word in x.split()]))\n",
    "\n",
    "    # function to lemmatize and filter by noun and adjective\n",
    "    nlp = spacy.load('en', disable=['parser', 'ner'])\n",
    "\n",
    "\n",
    "    #df[feature] = df[feature].apply(lambda x: )\n",
    "\n",
    "    return df\n",
    "def lemmatization(texts, tags=['NOUN', 'ADJ']):  # filter noun and adjective\n",
    "    output = []\n",
    "    for sent in texts:\n",
    "        doc = nlp(\" \".join(sent))\n",
    "        output.append([token.lemma_ for token in doc if token.pos_ in tags])\n",
    "    return output\n"
   ]
  },
  {
   "cell_type": "code",
   "execution_count": 16,
   "metadata": {},
   "outputs": [
    {
     "name": "stderr",
     "output_type": "stream",
     "text": [
      "/Users/tehila/opt/anaconda3/lib/python3.7/site-packages/ipykernel/ipkernel.py:283: DeprecationWarning: `should_run_async` will not call `transform_cell` automatically in the future. Please pass the result to `transformed_cell` argument and any exception that happen during thetransform in `preprocessing_exc_tuple` in IPython 7.17 and above.\n",
      "  and should_run_async(code)\n"
     ]
    },
    {
     "name": "stdout",
     "output_type": "stream",
     "text": [
      "Most commonly used words \n",
      " get        4790\n",
      "time       3965\n",
      "easy       3778\n",
      "works      3619\n",
      "work       3491\n",
      "much       3437\n",
      "battery    3269\n",
      "also       3152\n",
      "really     3075\n",
      "using      3007\n",
      "dtype: int64\n"
     ]
    },
    {
     "data": {
      "text/html": [
       "<div>\n",
       "<style scoped>\n",
       "    .dataframe tbody tr th:only-of-type {\n",
       "        vertical-align: middle;\n",
       "    }\n",
       "\n",
       "    .dataframe tbody tr th {\n",
       "        vertical-align: top;\n",
       "    }\n",
       "\n",
       "    .dataframe thead th {\n",
       "        text-align: right;\n",
       "    }\n",
       "</style>\n",
       "<table border=\"1\" class=\"dataframe\">\n",
       "  <thead>\n",
       "    <tr style=\"text-align: right;\">\n",
       "      <th></th>\n",
       "      <th>reviewerID</th>\n",
       "      <th>asin</th>\n",
       "      <th>reviewerName</th>\n",
       "      <th>helpful</th>\n",
       "      <th>reviewText</th>\n",
       "      <th>overall</th>\n",
       "      <th>summary</th>\n",
       "      <th>unixReviewTime</th>\n",
       "      <th>reviewTime</th>\n",
       "    </tr>\n",
       "  </thead>\n",
       "  <tbody>\n",
       "    <tr>\n",
       "      <th>0</th>\n",
       "      <td>A3F73SC1LY51OO</td>\n",
       "      <td>B00002243X</td>\n",
       "      <td>Alan Montgomery</td>\n",
       "      <td>[4, 4]</td>\n",
       "      <td>needed set jumper cables new reviews price times already supposed complaints say feet ideal length sure pull front bumper front bumper plenty long lot times beside another close recommend somethin...</td>\n",
       "      <td>5</td>\n",
       "      <td>Work Well - Should Have Bought Longer Ones</td>\n",
       "      <td>1313539200</td>\n",
       "      <td>08 17, 2011</td>\n",
       "    </tr>\n",
       "    <tr>\n",
       "      <th>1</th>\n",
       "      <td>A20S66SKYXULG2</td>\n",
       "      <td>B00002243X</td>\n",
       "      <td>alphonse</td>\n",
       "      <td>[1, 1]</td>\n",
       "      <td>long cables fine truck quality seems little shabby side money expecting dollar snap jumper cables seem see chinese knock shop harbor freight bucks</td>\n",
       "      <td>4</td>\n",
       "      <td>Okay long cables</td>\n",
       "      <td>1315094400</td>\n",
       "      <td>09 4, 2011</td>\n",
       "    </tr>\n",
       "    <tr>\n",
       "      <th>2</th>\n",
       "      <td>A2I8LFSN2IS5EO</td>\n",
       "      <td>B00002243X</td>\n",
       "      <td>Chris</td>\n",
       "      <td>[0, 0]</td>\n",
       "      <td>comment since yet come back update review find issues first built solid nice tough big hard clamps love long cable never move cars around anything needed bought new truck since always need cables ...</td>\n",
       "      <td>5</td>\n",
       "      <td>Looks and feels heavy Duty</td>\n",
       "      <td>1374710400</td>\n",
       "      <td>07 25, 2013</td>\n",
       "    </tr>\n",
       "    <tr>\n",
       "      <th>3</th>\n",
       "      <td>A3GT2EWQSO45ZG</td>\n",
       "      <td>B00002243X</td>\n",
       "      <td>DeusEx</td>\n",
       "      <td>[19, 19]</td>\n",
       "      <td>absolutley love amazon price set cheap booster jumper cables brick morter store buy extra long heavy duty jumpers first person needs ask kind passer jump jumper cables easier jump start cables nex...</td>\n",
       "      <td>5</td>\n",
       "      <td>Excellent choice for Jumper Cables!!!</td>\n",
       "      <td>1292889600</td>\n",
       "      <td>12 21, 2010</td>\n",
       "    </tr>\n",
       "    <tr>\n",
       "      <th>4</th>\n",
       "      <td>A3ESWJPAVRPWB4</td>\n",
       "      <td>B00002243X</td>\n",
       "      <td>E. Hernandez</td>\n",
       "      <td>[0, 0]</td>\n",
       "      <td>purchased feet long cable set arrived retail cardboard box handle could storage carrying case cables although need store carry box high quality long cables high grade materials believe worth price...</td>\n",
       "      <td>5</td>\n",
       "      <td>Excellent, High Quality Starter Cables</td>\n",
       "      <td>1341360000</td>\n",
       "      <td>07 4, 2012</td>\n",
       "    </tr>\n",
       "  </tbody>\n",
       "</table>\n",
       "</div>"
      ],
      "text/plain": [
       "       reviewerID        asin     reviewerName   helpful  \\\n",
       "0  A3F73SC1LY51OO  B00002243X  Alan Montgomery    [4, 4]   \n",
       "1  A20S66SKYXULG2  B00002243X         alphonse    [1, 1]   \n",
       "2  A2I8LFSN2IS5EO  B00002243X            Chris    [0, 0]   \n",
       "3  A3GT2EWQSO45ZG  B00002243X           DeusEx  [19, 19]   \n",
       "4  A3ESWJPAVRPWB4  B00002243X     E. Hernandez    [0, 0]   \n",
       "\n",
       "                                                                                                                                                                                                reviewText  \\\n",
       "0  needed set jumper cables new reviews price times already supposed complaints say feet ideal length sure pull front bumper front bumper plenty long lot times beside another close recommend somethin...   \n",
       "1                                                       long cables fine truck quality seems little shabby side money expecting dollar snap jumper cables seem see chinese knock shop harbor freight bucks   \n",
       "2  comment since yet come back update review find issues first built solid nice tough big hard clamps love long cable never move cars around anything needed bought new truck since always need cables ...   \n",
       "3  absolutley love amazon price set cheap booster jumper cables brick morter store buy extra long heavy duty jumpers first person needs ask kind passer jump jumper cables easier jump start cables nex...   \n",
       "4  purchased feet long cable set arrived retail cardboard box handle could storage carrying case cables although need store carry box high quality long cables high grade materials believe worth price...   \n",
       "\n",
       "   overall                                     summary  unixReviewTime  \\\n",
       "0        5  Work Well - Should Have Bought Longer Ones      1313539200   \n",
       "1        4                            Okay long cables      1315094400   \n",
       "2        5                  Looks and feels heavy Duty      1374710400   \n",
       "3        5       Excellent choice for Jumper Cables!!!      1292889600   \n",
       "4        5      Excellent, High Quality Starter Cables      1341360000   \n",
       "\n",
       "    reviewTime  \n",
       "0  08 17, 2011  \n",
       "1   09 4, 2011  \n",
       "2  07 25, 2013  \n",
       "3  12 21, 2010  \n",
       "4   07 4, 2012  "
      ]
     },
     "execution_count": 16,
     "metadata": {},
     "output_type": "execute_result"
    }
   ],
   "source": [
    "df_clean = basic_preprocess(df,'reviewText')\n",
    "df_clean.head()"
   ]
  },
  {
   "cell_type": "code",
   "execution_count": 17,
   "metadata": {},
   "outputs": [
    {
     "name": "stderr",
     "output_type": "stream",
     "text": [
      "/Users/tehila/opt/anaconda3/lib/python3.7/site-packages/ipykernel/ipkernel.py:283: DeprecationWarning: `should_run_async` will not call `transform_cell` automatically in the future. Please pass the result to `transformed_cell` argument and any exception that happen during thetransform in `preprocessing_exc_tuple` in IPython 7.17 and above.\n",
      "  and should_run_async(code)\n"
     ]
    },
    {
     "data": {
      "image/png": "[encoded data removed]",
      "text/plain": [
       "<Figure size 1440x360 with 1 Axes>"
      ]
     },
     "metadata": {
      "needs_background": "light"
     },
     "output_type": "display_data"
    }
   ],
   "source": [
    "#plot the freq_words again\n",
    "freq_words(df_clean['reviewText'])"
   ]
  },
  {
   "cell_type": "code",
   "execution_count": 18,
   "metadata": {},
   "outputs": [
    {
     "name": "stdout",
     "output_type": "stream",
     "text": [
      "['long', 'cables', 'fine', 'truck', 'quality', 'seems', 'little', 'shabby', 'side', 'money', 'expecting', 'dollar', 'snap', 'jumper', 'cables', 'seem', 'see', 'chinese', 'knock', 'shop', 'harbor', 'freight', 'bucks']\n"
     ]
    },
    {
     "name": "stderr",
     "output_type": "stream",
     "text": [
      "/Users/tehila/opt/anaconda3/lib/python3.7/site-packages/ipykernel/ipkernel.py:283: DeprecationWarning: `should_run_async` will not call `transform_cell` automatically in the future. Please pass the result to `transformed_cell` argument and any exception that happen during thetransform in `preprocessing_exc_tuple` in IPython 7.17 and above.\n",
      "  and should_run_async(code)\n"
     ]
    }
   ],
   "source": [
    "tok_rev = pd.Series(df_clean['reviewText']).apply(lambda x: x.split())\n",
    "print(tok_rev[1])"
   ]
  },
  {
   "cell_type": "code",
   "execution_count": 22,
   "metadata": {},
   "outputs": [
    {
     "name": "stderr",
     "output_type": "stream",
     "text": [
      "/Users/tehila/opt/anaconda3/lib/python3.7/site-packages/ipykernel/ipkernel.py:283: DeprecationWarning: `should_run_async` will not call `transform_cell` automatically in the future. Please pass the result to `transformed_cell` argument and any exception that happen during thetransform in `preprocessing_exc_tuple` in IPython 7.17 and above.\n",
      "  and should_run_async(code)\n"
     ]
    }
   ],
   "source": [
    "# #function to lemmatize and filter by noun and adjective\n",
    "# nlp = spacy.load('en', disable=['parser', 'ner'])\n",
    "\n",
    "# def lemmatization(texts, tags=['NOUN', 'ADJ']): # filter noun and adjective\n",
    "#        output = []\n",
    "#        for sent in texts:\n",
    "#              doc = nlp(\" \".join(sent)) \n",
    "#              output.append([token.lemma_ for token in doc if token.pos_ in tags])\n",
    "#        return output"
   ]
  },
  {
   "cell_type": "markdown",
   "metadata": {},
   "source": [
    "Tokenize the reviews and then lemmatize the tokenized reviews"
   ]
  },
  {
   "cell_type": "code",
   "execution_count": 21,
   "metadata": {},
   "outputs": [
    {
     "name": "stderr",
     "output_type": "stream",
     "text": [
      "/Users/tehila/opt/anaconda3/lib/python3.7/site-packages/ipykernel/ipkernel.py:283: DeprecationWarning: `should_run_async` will not call `transform_cell` automatically in the future. Please pass the result to `transformed_cell` argument and any exception that happen during thetransform in `preprocessing_exc_tuple` in IPython 7.17 and above.\n",
      "  and should_run_async(code)\n"
     ]
    },
    {
     "name": "stdout",
     "output_type": "stream",
     "text": [
      "['long', 'fine', 'truck', 'quality', 'little', 'shabby', 'side', 'money', 'expecting', 'dollar', 'snap', 'jumper', 'cable', 'chinese', 'shop', 'freight', 'buck']\n"
     ]
    }
   ],
   "source": [
    "rev2=lemmatization(tok_rev)\n",
    "lemmatization\n",
    "print(rev2[1])"
   ]
  },
  {
   "cell_type": "markdown",
   "metadata": {},
   "source": [
    "#### Build an LDA model\n",
    "Create the term dictionary of out corpus.  Every unique term is assigned an index. <br>\n",
    "Convert list of reviews into a document term matrix using the dictionary."
   ]
  },
  {
   "cell_type": "code",
   "execution_count": 23,
   "metadata": {},
   "outputs": [
    {
     "name": "stderr",
     "output_type": "stream",
     "text": [
      "/Users/tehila/opt/anaconda3/lib/python3.7/site-packages/ipykernel/ipkernel.py:283: DeprecationWarning: `should_run_async` will not call `transform_cell` automatically in the future. Please pass the result to `transformed_cell` argument and any exception that happen during thetransform in `preprocessing_exc_tuple` in IPython 7.17 and above.\n",
      "  and should_run_async(code)\n"
     ]
    }
   ],
   "source": [
    "dictionary = corpora.Dictionary(rev2)"
   ]
  },
  {
   "cell_type": "code",
   "execution_count": 24,
   "metadata": {},
   "outputs": [
    {
     "name": "stderr",
     "output_type": "stream",
     "text": [
      "/Users/tehila/opt/anaconda3/lib/python3.7/site-packages/ipykernel/ipkernel.py:283: DeprecationWarning: `should_run_async` will not call `transform_cell` automatically in the future. Please pass the result to `transformed_cell` argument and any exception that happen during thetransform in `preprocessing_exc_tuple` in IPython 7.17 and above.\n",
      "  and should_run_async(code)\n"
     ]
    }
   ],
   "source": [
    "doc_term_mat= [dictionary.doc2bow(rev) for rev in rev2]"
   ]
  },
  {
   "cell_type": "code",
   "execution_count": 25,
   "metadata": {},
   "outputs": [
    {
     "name": "stderr",
     "output_type": "stream",
     "text": [
      "/Users/tehila/opt/anaconda3/lib/python3.7/site-packages/ipykernel/ipkernel.py:283: DeprecationWarning: `should_run_async` will not call `transform_cell` automatically in the future. Please pass the result to `transformed_cell` argument and any exception that happen during thetransform in `preprocessing_exc_tuple` in IPython 7.17 and above.\n",
      "  and should_run_async(code)\n"
     ]
    }
   ],
   "source": [
    "#Create object for LDA model\n",
    "LDA = gensim.models.ldamodel.LdaModel\n",
    "\n",
    "#Build LDA model\n",
    "lda_model = LDA(corpus = doc_term_mat, id2word=dictionary, num_topics=7, random_state=100, chunksize=1000, passes=50)"
   ]
  },
  {
   "cell_type": "code",
   "execution_count": 26,
   "metadata": {},
   "outputs": [
    {
     "name": "stderr",
     "output_type": "stream",
     "text": [
      "/Users/tehila/opt/anaconda3/lib/python3.7/site-packages/ipykernel/ipkernel.py:283: DeprecationWarning: `should_run_async` will not call `transform_cell` automatically in the future. Please pass the result to `transformed_cell` argument and any exception that happen during thetransform in `preprocessing_exc_tuple` in IPython 7.17 and above.\n",
      "  and should_run_async(code)\n"
     ]
    },
    {
     "data": {
      "text/plain": [
       "[(0,\n",
       "  '0.040*\"towel\" + 0.033*\"wiper\" + 0.032*\"blade\" + 0.025*\"water\" + 0.013*\"windshield\" + 0.012*\"rain\" + 0.011*\"dry\" + 0.011*\"window\" + 0.011*\"glass\" + 0.010*\"size\"'),\n",
       " (1,\n",
       "  '0.064*\"light\" + 0.030*\"price\" + 0.024*\"bulb\" + 0.020*\"bright\" + 0.019*\"quality\" + 0.013*\"cheap\" + 0.010*\"high\" + 0.010*\"color\" + 0.010*\"worth\" + 0.010*\"well\"'),\n",
       " (2,\n",
       "  '0.031*\"clean\" + 0.016*\"paint\" + 0.015*\"product\" + 0.015*\"filter\" + 0.014*\"spray\" + 0.012*\"job\" + 0.012*\"stuff\" + 0.012*\"water\" + 0.011*\"wash\" + 0.009*\"dirt\"'),\n",
       " (3,\n",
       "  '0.036*\"leather\" + 0.035*\"oil\" + 0.023*\"engine\" + 0.016*\"seat\" + 0.015*\"code\" + 0.014*\"change\" + 0.010*\"gas\" + 0.010*\"mile\" + 0.010*\"bike\" + 0.009*\"fuel\"'),\n",
       " (4,\n",
       "  '0.023*\"tire\" + 0.016*\"hose\" + 0.012*\"tool\" + 0.012*\"pressure\" + 0.011*\"trailer\" + 0.010*\"gauge\" + 0.009*\"trip\" + 0.008*\"air\" + 0.008*\"bag\" + 0.008*\"fit\"'),\n",
       " (5,\n",
       "  '0.021*\"plastic\" + 0.012*\"pad\" + 0.012*\"tape\" + 0.011*\"door\" + 0.010*\"little\" + 0.010*\"small\" + 0.010*\"place\" + 0.009*\"side\" + 0.009*\"area\" + 0.009*\"cover\"'),\n",
       " (6,\n",
       "  '0.021*\"power\" + 0.017*\"device\" + 0.017*\"light\" + 0.016*\"unit\" + 0.011*\"phone\" + 0.011*\"charger\" + 0.011*\"vehicle\" + 0.010*\"charge\" + 0.010*\"wire\" + 0.009*\"cable\"')]"
      ]
     },
     "execution_count": 26,
     "metadata": {},
     "output_type": "execute_result"
    }
   ],
   "source": [
    "lda_model.print_topics()"
   ]
  },
  {
   "cell_type": "markdown",
   "metadata": {},
   "source": [
    "Use the pyLDAvis library to visualize.  This is interactive and displays topics and most relevant words."
   ]
  },
  {
   "cell_type": "code",
   "execution_count": 28,
   "metadata": {},
   "outputs": [
    {
     "name": "stderr",
     "output_type": "stream",
     "text": [
      "/Users/tehila/opt/anaconda3/lib/python3.7/site-packages/ipykernel/ipkernel.py:283: DeprecationWarning: `should_run_async` will not call `transform_cell` automatically in the future. Please pass the result to `transformed_cell` argument and any exception that happen during thetransform in `preprocessing_exc_tuple` in IPython 7.17 and above.\n",
      "  and should_run_async(code)\n"
     ]
    },
    {
     "data": {
      "text/html": [
       "\n",
       "<link rel=\"stylesheet\" type=\"text/css\" href=\"https://cdn.jsdelivr.net/gh/bmabey/pyLDAvis@3.2.2/pyLDAvis/js/ldavis.v1.0.0.css\">\n",
       "\n",
       "\n",
       "<div id=\"ldavis_el806631407014539554087645922045\"></div>\n",
       "<script type=\"text/javascript\">\n",
       "\n",
       "var ldavis_el806631407014539554087645922045_data = {\"mdsDat\": {\"x\": [0.13759865311963654, -0.021960062592407018, -0.05034607080426027, 0.2594162696282414, -0.06200809720393763, 0.003644599546008989, -0.2663452916932821], \"y\": [-0.07287757467220216, 0.22713721197399606, -0.2106716341559764, -0.04327457634674941, 0.01975006603736827, 0.14130462374875563, -0.06136811658519185], \"topics\": [1, 2, 3, 4, 5, 6, 7], \"cluster\": [1, 1, 1, 1, 1, 1, 1], \"Freq\": [18.645709831082467, 17.001206655214958, 14.680662469130434, 13.819851582061732, 13.260400936192084, 11.790368023891324, 10.801800502427003]}, \"tinfo\": {\"Term\": [\"light\", \"towel\", \"leather\", \"oil\", \"wiper\", \"blade\", \"clean\", \"price\", \"bulb\", \"water\", \"tire\", \"power\", \"engine\", \"plastic\", \"bright\", \"device\", \"hose\", \"quality\", \"filter\", \"paint\", \"unit\", \"spray\", \"seat\", \"product\", \"code\", \"trailer\", \"stuff\", \"pad\", \"windshield\", \"change\", \"trailer\", \"gauge\", \"trip\", \"bag\", \"valve\", \"lock\", \"leak\", \"hitch\", \"manual\", \"camper\", \"button\", \"drain\", \"accurate\", \"volt\", \"sewer\", \"drill\", \"block\", \"fitting\", \"strap\", \"travel\", \"compressor\", \"thread\", \"construction\", \"jack\", \"accessory\", \"rust\", \"visor\", \"measure\", \"ball\", \"mower\", \"hose\", \"pressure\", \"tire\", \"cap\", \"tool\", \"tank\", \"air\", \"storage\", \"solid\", \"fit\", \"seal\", \"plug\", \"nice\", \"thing\", \"size\", \"quality\", \"small\", \"little\", \"end\", \"enough\", \"big\", \"water\", \"large\", \"truck\", \"job\", \"sure\", \"filter\", \"spray\", \"dirt\", \"brush\", \"shine\", \"dust\", \"clay\", \"inverter\", \"wax\", \"cleaning\", \"polish\", \"coat\", \"cleaner\", \"meguiar\", \"chemical\", \"dirty\", \"liquid\", \"soap\", \"detailer\", \"rinse\", \"sponge\", \"shiny\", \"bug\", \"polishing\", \"film\", \"grime\", \"apply\", \"griot\", \"sprayer\", \"mud\", \"paint\", \"clean\", \"finish\", \"wash\", \"product\", \"stuff\", \"smell\", \"bottle\", \"result\", \"wheel\", \"cloth\", \"job\", \"surface\", \"black\", \"water\", \"kit\", \"new\", \"lot\", \"nice\", \"year\", \"power\", \"device\", \"phone\", \"charger\", \"charge\", \"wire\", \"cable\", \"battery\", \"connector\", \"mat\", \"port\", \"cord\", \"solar\", \"socket\", \"fuse\", \"cigarette\", \"usb\", \"current\", \"datum\", \"cell\", \"switch\", \"outlet\", \"laptop\", \"voltage\", \"led\", \"amp\", \"reading\", \"electrical\", \"wiring\", \"link\", \"automatic\", \"unit\", \"plug\", \"information\", \"panel\", \"feature\", \"vehicle\", \"light\", \"test\", \"thing\", \"day\", \"small\", \"adapter\", \"issue\", \"problem\", \"full\", \"long\", \"pad\", \"tape\", \"door\", \"board\", \"floor\", \"bumper\", \"plate\", \"strip\", \"scanner\", \"adhesive\", \"trim\", \"frame\", \"holder\", \"indicator\", \"sand\", \"roll\", \"compound\", \"wrap\", \"setting\", \"scan\", \"angle\", \"lense\", \"lamp\", \"chrome\", \"trigger\", \"stiff\", \"crash\", \"license\", \"pleasant\", \"gloss\", \"plastic\", \"cover\", \"cut\", \"metal\", \"stick\", \"thin\", \"mirror\", \"look\", \"clip\", \"place\", \"front\", \"rubber\", \"material\", \"area\", \"piece\", \"side\", \"edge\", \"surface\", \"bar\", \"small\", \"little\", \"heavy\", \"top\", \"hard\", \"bit\", \"nice\", \"end\", \"black\", \"enough\", \"thing\", \"fit\", \"bulb\", \"bright\", \"headlight\", \"night\", \"stock\", \"bucket\", \"shipping\", \"beam\", \"vision\", \"match\", \"incandescent\", \"coolant\", \"helmet\", \"map\", \"brightness\", \"longevity\", \"cabin\", \"oem\", \"seller\", \"purple\", \"park\", \"amazon\", \"tail\", \"visibility\", \"royal\", \"offer\", \"accident\", \"lens\", \"tall\", \"fog\", \"light\", \"price\", \"white\", \"replacement\", \"cheap\", \"quality\", \"worth\", \"thank\", \"color\", \"auto\", \"store\", \"factory\", \"synthetic\", \"one\", \"high\", \"money\", \"original\", \"kit\", \"well\", \"installation\", \"less\", \"part\", \"cost\", \"brand\", \"last\", \"year\", \"low\", \"new\", \"fit\", \"review\", \"old\", \"little\", \"nice\", \"towel\", \"wiper\", \"blade\", \"windshield\", \"rain\", \"snow\", \"streak\", \"drying\", \"applicator\", \"polisher\", \"wind\", \"lint\", \"absorbent\", \"compact\", \"scraper\", \"season\", \"kitchen\", \"micro\", \"shower\", \"husband\", \"gasket\", \"grit\", \"icon\", \"habit\", \"pink\", \"signal\", \"traditional\", \"zwipe\", \"bosch\", \"buffing\", \"glass\", \"window\", \"arm\", \"water\", \"dry\", \"size\", \"speed\", \"pocket\", \"winter\", \"weather\", \"side\", \"old\", \"large\", \"soft\", \"year\", \"job\", \"clear\", \"last\", \"cloth\", \"type\", \"month\", \"small\", \"new\", \"different\", \"little\", \"leather\", \"oil\", \"engine\", \"code\", \"gas\", \"mile\", \"bike\", \"fuel\", \"app\", \"fluid\", \"conditioner\", \"sensor\", \"carpet\", \"dealer\", \"scent\", \"mpg\", \"mileage\", \"odor\", \"torque\", \"lighting\", \"transmission\", \"vent\", \"motor\", \"minor\", \"boot\", \"dish\", \"leg\", \"reader\", \"lexol\", \"acceleration\", \"seat\", \"change\", \"fix\", \"repair\", \"new\", \"vehicle\", \"car\", \"problem\", \"system\", \"stuff\", \"year\", \"old\", \"air\"], \"Freq\": [4764.0, 2090.0, 1721.0, 1664.0, 1729.0, 1652.0, 2589.0, 2163.0, 1400.0, 2662.0, 2128.0, 1354.0, 1096.0, 1535.0, 1154.0, 1089.0, 1369.0, 1950.0, 1085.0, 1240.0, 1175.0, 1018.0, 829.0, 1356.0, 708.0, 938.0, 1146.0, 740.0, 681.0, 792.0, 937.9069175192012, 821.7811242775664, 702.4084749492492, 663.528215894614, 565.0746486651885, 406.7957590428425, 379.4393018358015, 340.3265810623749, 342.6270048853478, 302.8293570168963, 303.1350455085028, 291.6451752356365, 273.824422504229, 266.522648137864, 248.4075237797396, 248.2759818678462, 244.19586216635054, 242.9427143342211, 241.0975137789255, 234.36993241113615, 223.67500057198643, 211.8327098124989, 209.26121379052304, 199.33185359619986, 193.07092648062337, 191.45265284129073, 171.66928945885053, 160.8874174694312, 158.315607618429, 151.95778341347412, 1315.3524730605677, 951.1493612347372, 1843.4657845176976, 425.08970888616375, 956.4122549866958, 587.6607525121725, 671.2334983091021, 295.0927107197143, 342.3524330172025, 652.6044551454023, 290.734443401167, 488.49310061818284, 623.5885841666652, 615.1246343459304, 465.02850373670907, 563.8611764299661, 582.1186079865848, 613.0545039684758, 418.73586935884646, 453.7940332314692, 413.3720557999899, 508.7908012449002, 414.81106649548286, 400.8228128538099, 369.7861111846668, 359.50507228142106, 1084.3574565499873, 1018.1715231173313, 686.9996168694788, 585.836704321325, 551.8398500700663, 546.5084744328192, 542.2160145029311, 553.303204448375, 541.6175271884557, 520.1295954251125, 512.5325351540687, 481.6747650767866, 468.2268886572476, 414.58026165266824, 379.98859668243307, 353.6206087217705, 305.7930959007236, 288.771464601615, 241.6058083401056, 236.44202996182946, 234.93131340282434, 234.41946887661666, 222.8800750272334, 212.05158213394913, 202.16960447246547, 170.57275198773635, 167.3214275964521, 156.61414095761202, 136.88459301893673, 133.32119157103165, 1174.1912522318937, 2300.6478083366574, 629.3600337287231, 825.37723716719, 1122.1694376438081, 893.4506514853355, 451.16075667865647, 661.044517520321, 610.0878750810352, 682.5930437396705, 513.8962399204105, 926.0680887272238, 665.179716280471, 615.7518438714845, 859.2450637273533, 608.4205043373979, 680.2199053996875, 626.1147791884985, 617.2360785374383, 581.8212030240702, 1353.5943082399385, 1088.486708213499, 729.9138691925639, 728.5544702135447, 673.150186285316, 615.7419659226066, 563.4145097266999, 540.192292436172, 486.7470489551686, 454.217465212648, 397.3881305348438, 382.87648353750166, 356.2569668244361, 355.55594248974586, 316.02510058789875, 287.1450604338032, 274.1432544061299, 272.55230714327377, 267.9610260449937, 262.23961800401224, 247.8524458052248, 246.93239254805354, 207.49263049760322, 187.31847336384118, 187.64527961129792, 181.3991515911827, 180.12550125226517, 177.6409321590242, 175.5541672704041, 169.54617667168174, 264.48142230425856, 1032.633464412716, 537.5278848135947, 257.50759891766455, 351.68401550881134, 327.7270794301827, 718.5690515564314, 1069.5120286952133, 302.16694628296904, 456.1617100509979, 387.3794402419083, 425.8454176134821, 287.2434482377619, 319.7369414768517, 319.51108381181285, 292.8857566774481, 304.6129539461957, 739.473362527908, 701.9440692057551, 650.6276901052521, 361.96950516429223, 317.8431053944235, 302.66699186974154, 275.09389170211983, 251.82690160370402, 244.81866369418876, 222.62967427305784, 217.5731125429883, 201.3311783431814, 182.72223552916213, 176.18127832751492, 165.53907192632545, 165.2907493128432, 148.77958631529097, 145.3627432787887, 142.18060493668702, 123.7413222221999, 122.55807166513873, 118.28015604537735, 117.13982448898304, 113.26943849010452, 111.28533164518528, 109.9901350266048, 116.1501852162571, 104.95729892574278, 104.86140255456975, 103.48719099142112, 1273.5719269677568, 553.6815268016018, 209.04891547574226, 437.86755334635774, 225.98209299257948, 276.28000399579963, 198.8099883821819, 408.28452726673805, 267.89438264757325, 576.0771110510371, 437.38776840016106, 453.3768688745746, 333.5609188762823, 561.8814877002363, 361.544558422265, 572.2007125858146, 243.94539701154488, 472.6565999325522, 305.7588797791714, 578.4323625798311, 609.1559105283789, 370.6974071287746, 348.50107305356346, 332.5538977254738, 366.3401805227259, 378.175054427091, 319.7315978126642, 326.3271253712112, 327.97974302539933, 346.73691815737294, 310.76037774947594, 1399.9700865882, 1153.8077343712616, 499.7752880407855, 430.35843599121677, 389.7160632261088, 268.93629357733806, 209.46820225247703, 190.76259941719863, 147.25656227355898, 142.90170446061987, 138.54548046658033, 130.21452164261828, 126.83293936156281, 120.81752223739787, 118.16640046907685, 110.61962283349688, 101.01802766357582, 99.39232626022965, 99.44818413007404, 96.80876282365286, 87.58852831566614, 84.75323586642337, 84.30401252546994, 77.82216629441332, 76.50449138630783, 77.31628025415533, 71.04295924928134, 70.25440222341416, 70.680251693659, 69.46621717754958, 3694.488288231314, 1724.2103650227914, 495.207698245998, 332.91366175912503, 755.9367873646014, 1107.8365248809623, 584.087977845225, 159.47916235813634, 603.5537049076268, 327.52541644588274, 462.7872197680909, 253.93370432499484, 189.60716189640726, 422.17119671371233, 609.5551626367852, 390.59117661694376, 271.4944338715556, 533.2555443093618, 578.4296074173702, 290.58636837425763, 316.9637544158066, 465.1747632698451, 272.48287266099965, 333.7032873820906, 410.09910650145815, 493.35542720470687, 310.9941652279615, 371.00982464318963, 339.1372524192883, 333.6681454167544, 330.91814460047055, 346.37601032290036, 341.3251982149222, 2089.8060083541563, 1728.7887069221229, 1651.9569075222778, 680.7747487092802, 642.3796316794385, 446.3662912465301, 308.5580416133139, 199.44838625725478, 193.35283393333552, 190.3624506542613, 176.24077065840018, 172.46587766479715, 164.119591035938, 137.08987643649687, 128.95251096618804, 126.03966580864822, 122.65479666229801, 119.19507141723055, 118.40658076300451, 113.86106924928433, 110.5965182924533, 109.31049436513356, 104.634453731976, 109.18294794371705, 95.90596081116064, 96.59694249682143, 93.57227021751538, 90.7649199619515, 89.27609662322911, 89.6891341505744, 552.4573960704308, 571.829731067768, 261.8599832919809, 1293.721212534866, 574.7760113079611, 519.6741772588183, 250.43827040942833, 195.35595619451084, 223.0644631068541, 203.44963957122374, 421.6037879531925, 441.2153160885902, 372.8978687294736, 282.05044349162233, 448.3581562280783, 379.21137449506284, 264.1827593757312, 299.93318542171556, 234.12050683365484, 232.56707440715783, 227.1795039449175, 251.68571169460716, 246.08682669919492, 220.80884583660585, 227.53918365061128, 1720.952737197175, 1664.2781742392779, 1095.6509204688555, 707.9270325235692, 496.3070729279256, 457.49335116312756, 452.28080435692914, 417.8220297656762, 395.049008787477, 372.2037057968638, 343.9835520301043, 321.2576465831677, 280.55769485234805, 257.0880119051112, 242.23242760131714, 224.29042340464457, 222.60080932726862, 216.53866239162005, 198.898171150389, 185.48824913207363, 168.75296889173381, 152.4382134995312, 151.97777928417398, 149.7229771664378, 146.51351257346374, 135.15221263991342, 118.93763835394068, 117.00987928657945, 113.12555853288593, 113.5393069423593, 753.4508609834697, 677.8939885887497, 165.14900538253139, 190.80432669873574, 385.04222528472724, 403.97764437091513, 308.69181539457577, 315.0302206557188, 250.34163198060838, 252.70324840144536, 291.1850458763106, 273.722306681461, 230.99775341268472], \"Total\": [4764.0, 2090.0, 1721.0, 1664.0, 1729.0, 1652.0, 2589.0, 2163.0, 1400.0, 2662.0, 2128.0, 1354.0, 1096.0, 1535.0, 1154.0, 1089.0, 1369.0, 1950.0, 1085.0, 1240.0, 1175.0, 1018.0, 829.0, 1356.0, 708.0, 938.0, 1146.0, 740.0, 681.0, 792.0, 938.6032744654076, 822.4772991303873, 703.112946456195, 664.2255376680556, 565.7704106557187, 407.49284801793215, 380.137022838873, 341.0225936212801, 343.32864200910524, 303.5260222780154, 303.8351850305458, 292.34255888812675, 274.52150415998904, 267.2248675676317, 249.1034986571545, 248.97481839607232, 244.89415285548185, 243.63899032838538, 241.7939347546878, 235.06755209690522, 224.3708534142623, 212.53005217314006, 209.96008115555796, 200.02769628278597, 193.77068450119333, 192.15038039592866, 172.36976908598166, 161.58628399585731, 159.01303740327867, 152.65536514100373, 1369.641979989707, 1032.6193182216678, 2128.9450032891564, 464.70692013784077, 1258.9560460130526, 760.4986281221502, 968.9963007293409, 340.93082106899453, 452.28456975197776, 1302.964834559558, 358.19255344418326, 1026.6117160582207, 2247.4279173968403, 2293.652102147532, 1182.7280796554917, 1950.3933796671952, 2128.0063993165245, 2577.733591893988, 957.8758533127059, 1336.3077718961588, 1154.7058871069057, 2662.2262795012066, 1255.929347460397, 1099.0226477685496, 1869.834867834081, 1385.4620371695082, 1085.0693266281567, 1018.8832245938452, 687.7119833909363, 586.5486131198395, 552.5510142156445, 547.2209433019075, 542.9269074757738, 554.0290632279753, 542.3287495442805, 520.8420309906913, 513.2440197496303, 482.3868454323929, 468.9387344577552, 415.2913958405488, 380.7010038183365, 354.33344084838643, 306.5057347241443, 289.4829283023546, 242.31668450978916, 237.15465647285504, 235.6430300116493, 235.1313949137652, 223.59278686903545, 212.76386465680366, 202.88312035177736, 171.28404767042613, 168.0334504635485, 157.3259734991728, 137.59684744136604, 134.0374855176559, 1240.7702092859026, 2589.9071894891554, 698.2028600859328, 941.4603130640628, 1356.1234410624704, 1146.73815792606, 522.5085664639981, 825.577846210489, 754.3254708234732, 1022.4251519555188, 748.6235527360901, 1869.834867834081, 1170.078734980452, 1084.0232477261484, 2662.2262795012066, 1297.734683708135, 1923.8795108373683, 1762.8292103357392, 2247.4279173968403, 2259.1733994548085, 1354.3234484596046, 1089.2158223775352, 730.6425780291752, 729.2822348249547, 673.8781975774424, 616.4710804167729, 564.143204510231, 540.9203427119572, 487.4766214035559, 454.9526911284141, 398.11718019977815, 383.60549254518406, 356.98542113084443, 356.2855818066038, 316.753636024102, 287.8730339976055, 274.8712540120397, 273.2838329438862, 268.6907120918941, 262.9681122347681, 248.58190219898256, 247.66099699356576, 208.22135905823882, 188.0463974932552, 188.37675034125937, 182.12750643987215, 180.85585382676018, 178.37017766664624, 176.28340397269272, 170.27691311062028, 269.3392180813458, 1175.2057212495954, 1026.6117160582207, 327.3701944985065, 559.657233665231, 515.7310081389837, 2200.398387954954, 4764.612357336413, 494.4593695832477, 2293.652102147532, 1266.339847091771, 2128.0063993165245, 435.3474440744409, 896.27770959346, 1413.5142484737737, 823.9271993187375, 1662.9547984857243, 740.1922861020445, 702.6630041892197, 651.3470123938819, 362.690613757906, 318.5634001570861, 303.38623360950777, 275.8124023593965, 252.5480702239687, 245.54392723872877, 223.34827989274822, 218.29213402263596, 202.0504152779746, 183.44459316578056, 176.90658239332478, 166.25900904257213, 166.00991474524352, 149.4985835721553, 146.08241216616577, 142.90658348823862, 124.46523672756075, 123.27846178090307, 119.00019512723986, 117.86194294510672, 113.98834155647836, 112.00852039576448, 110.71229527465763, 116.944076750421, 105.67595756866842, 105.58548012954458, 104.20762665799984, 1535.3562305885255, 662.605780610784, 233.50685175759597, 565.4281354797432, 259.5418380349594, 335.3587198937433, 225.40968717597028, 579.0039215407304, 341.5631305810712, 939.9551525533003, 680.1878041402736, 735.9612083705454, 477.76110941232537, 1054.082725666406, 590.9723468544855, 1444.3769101944113, 329.6777722984582, 1170.078734980452, 514.3635882680995, 2128.0063993165245, 2577.733591893988, 898.4928521723016, 863.6952646839508, 766.8527671537003, 1473.9260950917167, 2247.4279173968403, 957.8758533127059, 1084.0232477261484, 1336.3077718961588, 2293.652102147532, 1302.964834559558, 1400.6860182207072, 1154.5245481807585, 500.4922451370088, 431.07564186863925, 390.4332920004647, 269.6559720712948, 210.18531942376708, 191.47906739527053, 147.97654441468134, 143.62101739077227, 139.26194987477555, 130.93308703054453, 127.54975456870855, 121.5406834326644, 118.88262366820817, 111.34187427078987, 101.73599602644589, 100.10925201095539, 100.16881289499591, 97.52589415361521, 88.30894229356018, 85.47172122046581, 85.02181113848593, 78.54191245858128, 77.22207553508626, 78.04163173562772, 71.76750977325742, 70.97162482499647, 71.40372884783275, 70.18262054704854, 4764.612357336413, 2163.639186544498, 690.7936117969119, 443.9102492753338, 1182.6439717740795, 1950.3933796671952, 914.8422083781888, 188.92583132196123, 1035.1878093564742, 473.2548041656384, 761.129423090006, 349.86307978446223, 242.41504365929782, 751.5441422447519, 1383.0655255377196, 733.7194445964456, 437.1618578385278, 1297.734683708135, 1680.1136413584113, 542.7112484254212, 649.8944397434027, 1341.0318940511054, 521.086664002426, 795.2646078243863, 1402.2184582594348, 2259.1733994548085, 878.1845180237166, 1923.8795108373683, 1302.964834559558, 1290.688234301035, 1684.7897027011913, 2577.733591893988, 2247.4279173968403, 2090.5356643746136, 1729.5174384600612, 1652.6857554656153, 681.5039411799941, 643.1092087600421, 447.0962414347834, 309.2873784457513, 200.17799480408434, 194.0842299678046, 191.09346316828407, 176.97165619714212, 173.19594200127239, 164.84871347378674, 137.82513177526513, 129.68249887799274, 126.77020916854086, 123.38861817601719, 119.92560342216225, 119.13786169819905, 114.59855639898669, 111.32778189106799, 110.04206307708363, 105.36409261926215, 109.96476604022163, 96.63632226483952, 97.33580937938383, 94.30505845170461, 91.49485693527451, 90.00562837785577, 90.42279669402697, 633.5208121127976, 666.5987553125888, 292.3094814492441, 2662.2262795012066, 1061.089476186291, 1182.7280796554917, 431.2926162817487, 295.8184706592583, 399.92055893364875, 348.46661655917535, 1444.3769101944113, 1684.7897027011913, 1255.929347460397, 739.4364526291838, 2259.1733994548085, 1869.834867834081, 933.0028279340136, 1402.2184582594348, 748.6235527360901, 772.9926141689217, 863.1020349696671, 2128.0063993165245, 1923.8795108373683, 928.876385255342, 2577.733591893988, 1721.6588102276612, 1664.9838717183784, 1096.3573277107964, 708.633780237136, 497.01379247389275, 458.19977263086207, 452.9880654136268, 418.527674071757, 395.76105071698254, 372.91013957492004, 344.68960254910377, 321.96471559045017, 281.2680961848606, 257.7948578548537, 242.94177792390295, 224.99660349200462, 223.30688850005313, 217.24719167750007, 199.60522631306102, 186.2021550505003, 169.4583006669115, 153.14498850942053, 152.68522559603963, 150.43490682426784, 147.22093456768897, 135.86868801210673, 119.64705827585915, 117.7164868889846, 113.83146320110896, 114.24872956230878, 829.0507505122102, 792.8229975744157, 206.46005672630346, 305.6607897171488, 1923.8795108373683, 2200.398387954954, 1328.8837036887992, 1413.5142484737737, 744.7307466339814, 1146.73815792606, 2259.1733994548085, 1684.7897027011913, 968.9963007293409], \"Category\": [\"Default\", \"Default\", \"Default\", \"Default\", \"Default\", \"Default\", \"Default\", \"Default\", \"Default\", \"Default\", \"Default\", \"Default\", \"Default\", \"Default\", \"Default\", \"Default\", \"Default\", \"Default\", \"Default\", \"Default\", \"Default\", \"Default\", \"Default\", \"Default\", \"Default\", \"Default\", \"Default\", \"Default\", \"Default\", \"Default\", \"Topic1\", \"Topic1\", \"Topic1\", \"Topic1\", \"Topic1\", \"Topic1\", \"Topic1\", \"Topic1\", \"Topic1\", \"Topic1\", \"Topic1\", \"Topic1\", \"Topic1\", \"Topic1\", \"Topic1\", \"Topic1\", \"Topic1\", \"Topic1\", \"Topic1\", \"Topic1\", \"Topic1\", \"Topic1\", \"Topic1\", \"Topic1\", \"Topic1\", \"Topic1\", \"Topic1\", \"Topic1\", \"Topic1\", \"Topic1\", \"Topic1\", \"Topic1\", \"Topic1\", \"Topic1\", \"Topic1\", \"Topic1\", \"Topic1\", \"Topic1\", \"Topic1\", \"Topic1\", \"Topic1\", \"Topic1\", \"Topic1\", \"Topic1\", \"Topic1\", \"Topic1\", \"Topic1\", \"Topic1\", \"Topic1\", \"Topic1\", \"Topic1\", \"Topic1\", \"Topic1\", \"Topic1\", \"Topic1\", \"Topic1\", \"Topic2\", \"Topic2\", \"Topic2\", \"Topic2\", \"Topic2\", \"Topic2\", \"Topic2\", \"Topic2\", \"Topic2\", \"Topic2\", \"Topic2\", \"Topic2\", \"Topic2\", \"Topic2\", \"Topic2\", \"Topic2\", \"Topic2\", \"Topic2\", \"Topic2\", \"Topic2\", \"Topic2\", \"Topic2\", \"Topic2\", \"Topic2\", \"Topic2\", \"Topic2\", \"Topic2\", \"Topic2\", \"Topic2\", \"Topic2\", \"Topic2\", \"Topic2\", \"Topic2\", \"Topic2\", \"Topic2\", \"Topic2\", \"Topic2\", \"Topic2\", \"Topic2\", \"Topic2\", \"Topic2\", \"Topic2\", \"Topic2\", \"Topic2\", \"Topic2\", \"Topic2\", \"Topic2\", \"Topic2\", \"Topic2\", \"Topic2\", \"Topic3\", \"Topic3\", \"Topic3\", \"Topic3\", \"Topic3\", \"Topic3\", \"Topic3\", \"Topic3\", \"Topic3\", \"Topic3\", \"Topic3\", \"Topic3\", \"Topic3\", \"Topic3\", \"Topic3\", \"Topic3\", \"Topic3\", \"Topic3\", \"Topic3\", \"Topic3\", \"Topic3\", \"Topic3\", \"Topic3\", \"Topic3\", \"Topic3\", \"Topic3\", \"Topic3\", \"Topic3\", \"Topic3\", \"Topic3\", \"Topic3\", \"Topic3\", \"Topic3\", \"Topic3\", \"Topic3\", \"Topic3\", \"Topic3\", \"Topic3\", \"Topic3\", \"Topic3\", \"Topic3\", \"Topic3\", \"Topic3\", \"Topic3\", \"Topic3\", \"Topic3\", \"Topic3\", \"Topic4\", \"Topic4\", \"Topic4\", \"Topic4\", \"Topic4\", \"Topic4\", \"Topic4\", \"Topic4\", \"Topic4\", \"Topic4\", \"Topic4\", \"Topic4\", \"Topic4\", \"Topic4\", \"Topic4\", \"Topic4\", \"Topic4\", \"Topic4\", \"Topic4\", \"Topic4\", \"Topic4\", \"Topic4\", \"Topic4\", \"Topic4\", \"Topic4\", \"Topic4\", \"Topic4\", \"Topic4\", \"Topic4\", \"Topic4\", \"Topic4\", \"Topic4\", \"Topic4\", \"Topic4\", \"Topic4\", \"Topic4\", \"Topic4\", \"Topic4\", \"Topic4\", \"Topic4\", \"Topic4\", \"Topic4\", \"Topic4\", \"Topic4\", \"Topic4\", \"Topic4\", \"Topic4\", \"Topic4\", \"Topic4\", \"Topic4\", \"Topic4\", \"Topic4\", \"Topic4\", \"Topic4\", \"Topic4\", \"Topic4\", \"Topic4\", \"Topic4\", \"Topic4\", \"Topic4\", \"Topic4\", \"Topic5\", \"Topic5\", \"Topic5\", \"Topic5\", \"Topic5\", \"Topic5\", \"Topic5\", \"Topic5\", \"Topic5\", \"Topic5\", \"Topic5\", \"Topic5\", \"Topic5\", \"Topic5\", \"Topic5\", \"Topic5\", \"Topic5\", \"Topic5\", \"Topic5\", \"Topic5\", \"Topic5\", \"Topic5\", \"Topic5\", \"Topic5\", \"Topic5\", \"Topic5\", \"Topic5\", \"Topic5\", \"Topic5\", \"Topic5\", \"Topic5\", \"Topic5\", \"Topic5\", \"Topic5\", \"Topic5\", \"Topic5\", \"Topic5\", \"Topic5\", \"Topic5\", \"Topic5\", \"Topic5\", \"Topic5\", \"Topic5\", \"Topic5\", \"Topic5\", \"Topic5\", \"Topic5\", \"Topic5\", \"Topic5\", \"Topic5\", \"Topic5\", \"Topic5\", \"Topic5\", \"Topic5\", \"Topic5\", \"Topic5\", \"Topic5\", \"Topic5\", \"Topic5\", \"Topic5\", \"Topic5\", \"Topic5\", \"Topic5\", \"Topic6\", \"Topic6\", \"Topic6\", \"Topic6\", \"Topic6\", \"Topic6\", \"Topic6\", \"Topic6\", \"Topic6\", \"Topic6\", \"Topic6\", \"Topic6\", \"Topic6\", \"Topic6\", \"Topic6\", \"Topic6\", \"Topic6\", \"Topic6\", \"Topic6\", \"Topic6\", \"Topic6\", \"Topic6\", \"Topic6\", \"Topic6\", \"Topic6\", \"Topic6\", \"Topic6\", \"Topic6\", \"Topic6\", \"Topic6\", \"Topic6\", \"Topic6\", \"Topic6\", \"Topic6\", \"Topic6\", \"Topic6\", \"Topic6\", \"Topic6\", \"Topic6\", \"Topic6\", \"Topic6\", \"Topic6\", \"Topic6\", \"Topic6\", \"Topic6\", \"Topic6\", \"Topic6\", \"Topic6\", \"Topic6\", \"Topic6\", \"Topic6\", \"Topic6\", \"Topic6\", \"Topic6\", \"Topic6\", \"Topic7\", \"Topic7\", \"Topic7\", \"Topic7\", \"Topic7\", \"Topic7\", \"Topic7\", \"Topic7\", \"Topic7\", \"Topic7\", \"Topic7\", \"Topic7\", \"Topic7\", \"Topic7\", \"Topic7\", \"Topic7\", \"Topic7\", \"Topic7\", \"Topic7\", \"Topic7\", \"Topic7\", \"Topic7\", \"Topic7\", \"Topic7\", \"Topic7\", \"Topic7\", \"Topic7\", \"Topic7\", \"Topic7\", \"Topic7\", \"Topic7\", \"Topic7\", \"Topic7\", \"Topic7\", \"Topic7\", \"Topic7\", \"Topic7\", \"Topic7\", \"Topic7\", \"Topic7\", \"Topic7\", \"Topic7\", \"Topic7\"], \"logprob\": [30.0, 29.0, 28.0, 27.0, 26.0, 25.0, 24.0, 23.0, 22.0, 21.0, 20.0, 19.0, 18.0, 17.0, 16.0, 15.0, 14.0, 13.0, 12.0, 11.0, 10.0, 9.0, 8.0, 7.0, 6.0, 5.0, 4.0, 3.0, 2.0, 1.0, -4.467, -4.5992, -4.7562, -4.8131, -4.9737, -5.3024, -5.372, -5.4808, -5.474, -5.5975, -5.5965, -5.6351, -5.6982, -5.7252, -5.7956, -5.7961, -5.8127, -5.8179, -5.8255, -5.8538, -5.9005, -5.9549, -5.9671, -6.0157, -6.0476, -6.056, -6.1651, -6.23, -6.2461, -6.2871, -4.1288, -4.453, -3.7913, -5.2584, -4.4475, -4.9345, -4.8016, -5.6234, -5.4748, -4.8297, -5.6383, -5.1194, -4.8752, -4.8889, -5.1686, -4.9759, -4.944, -4.8922, -5.2734, -5.193, -5.2863, -5.0787, -5.2829, -5.3172, -5.3978, -5.426, -4.2296, -4.2926, -4.686, -4.8453, -4.9051, -4.9148, -4.9227, -4.9024, -4.9238, -4.9643, -4.979, -5.0411, -5.0694, -5.1911, -5.2782, -5.3501, -5.4954, -5.5527, -5.731, -5.7527, -5.7591, -5.7612, -5.8117, -5.8615, -5.9092, -6.0792, -6.0984, -6.1646, -6.2992, -6.3256, -4.15, -3.4774, -4.7737, -4.5025, -4.1953, -4.4233, -5.1065, -4.7245, -4.8048, -4.6925, -4.9763, -4.3874, -4.7183, -4.7955, -4.4623, -4.8075, -4.6959, -4.7788, -4.7931, -4.8522, -3.8611, -4.0791, -4.4787, -4.4805, -4.5596, -4.6488, -4.7376, -4.7797, -4.8839, -4.953, -5.0867, -5.1239, -5.1959, -5.1979, -5.3158, -5.4116, -5.458, -5.4638, -5.4808, -5.5023, -5.5588, -5.5625, -5.7365, -5.8388, -5.837, -5.8709, -5.8779, -5.8918, -5.9037, -5.9385, -5.4938, -4.1317, -4.7846, -5.5206, -5.2089, -5.2794, -4.4943, -4.0966, -5.3606, -4.9488, -5.1122, -5.0175, -5.4113, -5.3041, -5.3048, -5.3918, -5.3526, -4.4052, -4.4573, -4.5332, -5.1196, -5.2496, -5.2985, -5.3941, -5.4824, -5.5107, -5.6057, -5.6286, -5.7062, -5.8032, -5.8397, -5.902, -5.9035, -6.0087, -6.0319, -6.0541, -6.193, -6.2026, -6.2381, -6.2478, -6.2814, -6.2991, -6.3108, -6.2563, -6.3576, -6.3585, -6.3717, -3.8616, -4.6946, -5.6686, -4.9293, -5.5907, -5.3898, -5.7188, -4.9992, -5.4206, -4.6549, -4.9304, -4.8945, -5.2014, -4.6799, -5.1208, -4.6617, -5.5142, -4.8528, -5.2884, -4.6509, -4.5991, -5.0958, -5.1575, -5.2044, -5.1076, -5.0758, -5.2437, -5.2233, -5.2182, -5.1626, -5.2722, -3.7256, -3.919, -4.7557, -4.9052, -5.0044, -5.3754, -5.6253, -5.7188, -5.9777, -6.0077, -6.0387, -6.1007, -6.127, -6.1756, -6.1978, -6.2638, -6.3546, -6.3708, -6.3702, -6.3971, -6.4972, -6.5301, -6.5354, -6.6154, -6.6325, -6.6219, -6.7066, -6.7177, -6.7117, -6.729, -2.7553, -3.5173, -4.7649, -5.162, -4.3419, -3.9597, -4.5998, -5.8979, -4.567, -5.1783, -4.8326, -5.4328, -5.7249, -4.9244, -4.5571, -5.0022, -5.3659, -4.6909, -4.6095, -5.298, -5.2111, -4.8274, -5.3623, -5.1596, -4.9535, -4.7686, -5.2301, -5.0536, -5.1434, -5.1597, -5.168, -5.1223, -5.137, -3.2075, -3.3972, -3.4426, -4.3291, -4.3872, -4.7512, -5.1204, -5.5568, -5.5878, -5.6034, -5.6805, -5.7022, -5.7518, -5.9317, -5.9929, -6.0158, -6.043, -6.0716, -6.0782, -6.1174, -6.1465, -6.1582, -6.2019, -6.1593, -6.289, -6.2818, -6.3136, -6.3441, -6.3606, -6.356, -4.538, -4.5035, -5.2845, -3.6871, -4.4984, -4.5992, -5.3291, -5.5775, -5.4449, -5.5369, -4.8083, -4.7628, -4.931, -5.2103, -4.7468, -4.9143, -5.2757, -5.1488, -5.3965, -5.4032, -5.4266, -5.3242, -5.3467, -5.4551, -5.425, -3.3142, -3.3476, -3.7657, -4.2024, -4.5576, -4.639, -4.6505, -4.7297, -4.7858, -4.8453, -4.9242, -4.9925, -5.128, -5.2154, -5.2749, -5.3518, -5.3594, -5.387, -5.472, -5.5418, -5.6363, -5.738, -5.741, -5.756, -5.7777, -5.8584, -5.9862, -6.0025, -6.0363, -6.0326, -4.1401, -4.2458, -5.6579, -5.5135, -4.8114, -4.7634, -5.0324, -5.0121, -5.242, -5.2326, -5.0908, -5.1527, -5.3224], \"loglift\": [30.0, 29.0, 28.0, 27.0, 26.0, 25.0, 24.0, 23.0, 22.0, 21.0, 20.0, 19.0, 18.0, 17.0, 16.0, 15.0, 14.0, 13.0, 12.0, 11.0, 10.0, 9.0, 8.0, 7.0, 6.0, 5.0, 4.0, 3.0, 2.0, 1.0, 1.6788, 1.6787, 1.6786, 1.6785, 1.6783, 1.6778, 1.6777, 1.6775, 1.6775, 1.6773, 1.6772, 1.6772, 1.677, 1.6769, 1.6768, 1.6767, 1.6767, 1.6767, 1.6767, 1.6766, 1.6764, 1.6763, 1.6762, 1.6761, 1.6759, 1.6759, 1.6755, 1.6752, 1.6752, 1.675, 1.6391, 1.5974, 1.5356, 1.5904, 1.4047, 1.4217, 1.3124, 1.5352, 1.4011, 0.9881, 1.4709, 0.9369, 0.3975, 0.3635, 0.7461, 0.4386, 0.3833, 0.2433, 0.8521, 0.5995, 0.6523, 0.0247, 0.5717, 0.6709, 0.0589, 0.3305, 1.7712, 1.7712, 1.7708, 1.7707, 1.7706, 1.7706, 1.7706, 1.7706, 1.7706, 1.7705, 1.7705, 1.7704, 1.7704, 1.7702, 1.77, 1.7699, 1.7696, 1.7694, 1.7689, 1.7689, 1.7689, 1.7689, 1.7687, 1.7685, 1.7684, 1.7677, 1.7676, 1.7674, 1.7667, 1.7665, 1.7167, 1.6535, 1.6681, 1.6403, 1.5825, 1.5223, 1.6251, 1.5496, 1.5597, 1.3679, 1.3957, 1.0692, 1.2071, 1.2063, 0.641, 1.0144, 0.7322, 0.7367, 0.4796, 0.4153, 1.9181, 1.918, 1.9176, 1.9176, 1.9176, 1.9175, 1.9173, 1.9173, 1.9171, 1.917, 1.9168, 1.9167, 1.9166, 1.9166, 1.9163, 1.9161, 1.916, 1.916, 1.9159, 1.9159, 1.9157, 1.9157, 1.9151, 1.9148, 1.9147, 1.9146, 1.9146, 1.9145, 1.9145, 1.9143, 1.9004, 1.7893, 1.2716, 1.6786, 1.454, 1.4652, 0.7995, 0.4246, 1.4262, 0.3036, 0.7342, 0.3098, 1.5028, 0.8879, 0.4316, 0.8843, 0.2213, 1.9781, 1.978, 1.978, 1.9771, 1.9768, 1.9767, 1.9765, 1.9762, 1.9761, 1.9758, 1.9758, 1.9755, 1.9751, 1.975, 1.9747, 1.9747, 1.9742, 1.9741, 1.974, 1.9732, 1.9732, 1.973, 1.9729, 1.9727, 1.9726, 1.9725, 1.9723, 1.9722, 1.9722, 1.9721, 1.7921, 1.7995, 1.8684, 1.7234, 1.8406, 1.7853, 1.8535, 1.6297, 1.7361, 1.4895, 1.5375, 1.4946, 1.6198, 1.3499, 1.4877, 1.0531, 1.6779, 1.0726, 1.4589, 0.6764, 0.5365, 1.0937, 1.0715, 1.1436, 0.5869, 0.1969, 0.8818, 0.7785, 0.5744, 0.0897, 0.5457, 2.0199, 2.0198, 2.019, 2.0187, 2.0185, 2.0177, 2.017, 2.0166, 2.0155, 2.0154, 2.0152, 2.0149, 2.0148, 2.0144, 2.0143, 2.0139, 2.0133, 2.0132, 2.0132, 2.013, 2.0122, 2.0119, 2.0119, 2.0112, 2.0111, 2.0111, 2.0102, 2.0102, 2.0102, 2.0101, 1.766, 1.7934, 1.6875, 1.7326, 1.5728, 1.4548, 1.5717, 1.8509, 1.4809, 1.6523, 1.5229, 1.6999, 1.7747, 1.4437, 1.2011, 1.3899, 1.544, 1.131, 0.9541, 1.3957, 1.3024, 0.9616, 1.372, 1.152, 0.791, 0.4989, 0.9823, 0.3745, 0.6744, 0.6676, 0.3929, 0.0132, 0.1357, 2.1375, 2.1375, 2.1374, 2.1368, 2.1368, 2.1363, 2.1355, 2.1342, 2.1341, 2.1341, 2.1337, 2.1337, 2.1335, 2.1325, 2.1322, 2.1321, 2.1319, 2.1318, 2.1317, 2.1314, 2.1313, 2.1312, 2.1309, 2.1308, 2.1303, 2.1303, 2.1301, 2.1299, 2.1297, 2.1297, 2.001, 1.9845, 2.0279, 1.4162, 1.5248, 1.3155, 1.5943, 1.723, 1.5541, 1.5998, 0.9065, 0.798, 0.9236, 1.1741, 0.5207, 0.5424, 0.8761, 0.5956, 0.9755, 0.9368, 0.8031, 0.0031, 0.0815, 0.7012, -0.2895, 2.225, 2.225, 2.2248, 2.2245, 2.224, 2.2239, 2.2239, 2.2238, 2.2237, 2.2236, 2.2234, 2.2233, 2.2229, 2.2227, 2.2225, 2.2223, 2.2223, 2.2222, 2.2219, 2.2216, 2.2213, 2.2208, 2.2208, 2.2207, 2.2206, 2.2202, 2.2195, 2.2194, 2.2192, 2.2192, 2.1298, 2.0688, 2.0022, 1.7542, 0.6167, 0.5304, 0.7657, 0.7243, 1.1353, 0.713, 0.1767, 0.4082, 0.7916]}, \"token.table\": {\"Topic\": [6, 7, 1, 5, 1, 1, 3, 6, 4, 1, 2, 7, 5, 3, 4, 7, 6, 2, 2, 4, 5, 6, 1, 6, 2, 3, 5, 3, 6, 1, 1, 2, 4, 3, 5, 1, 2, 3, 4, 5, 6, 7, 1, 2, 3, 4, 5, 6, 7, 1, 2, 3, 4, 6, 1, 4, 7, 6, 2, 7, 2, 5, 6, 7, 5, 5, 2, 5, 6, 2, 5, 4, 1, 5, 3, 1, 1, 7, 2, 3, 5, 6, 7, 7, 3, 5, 7, 3, 3, 1, 2, 5, 2, 4, 3, 2, 2, 6, 7, 2, 2, 1, 2, 4, 5, 6, 7, 4, 5, 2, 6, 2, 7, 2, 5, 6, 6, 4, 1, 7, 3, 1, 5, 3, 2, 3, 5, 6, 7, 1, 4, 4, 3, 3, 4, 3, 2, 3, 4, 5, 6, 7, 7, 2, 3, 1, 2, 3, 4, 5, 6, 2, 2, 7, 4, 1, 1, 2, 6, 6, 2, 4, 6, 3, 1, 2, 3, 4, 5, 6, 7, 1, 2, 3, 4, 6, 4, 5, 1, 3, 6, 2, 2, 2, 4, 1, 4, 5, 1, 5, 7, 4, 7, 5, 4, 1, 4, 5, 7, 1, 2, 3, 6, 7, 3, 7, 6, 1, 2, 6, 4, 2, 2, 6, 6, 1, 2, 4, 6, 7, 5, 1, 3, 4, 6, 5, 1, 2, 3, 5, 6, 7, 1, 4, 1, 2, 6, 6, 5, 4, 3, 7, 1, 3, 5, 6, 2, 1, 3, 4, 5, 6, 7, 1, 1, 2, 3, 4, 6, 1, 2, 5, 6, 4, 3, 1, 2, 3, 4, 6, 1, 2, 5, 6, 7, 1, 7, 3, 7, 5, 4, 1, 2, 3, 5, 6, 7, 7, 4, 3, 5, 7, 3, 6, 2, 1, 2, 3, 4, 5, 6, 7, 1, 1, 2, 3, 4, 5, 6, 7, 5, 2, 4, 1, 2, 3, 4, 5, 6, 7, 1, 3, 5, 6, 7, 1, 5, 3, 5, 1, 4, 6, 1, 2, 1, 4, 6, 7, 7, 7, 4, 6, 1, 2, 5, 7, 2, 3, 5, 6, 7, 7, 1, 7, 2, 1, 2, 5, 6, 7, 1, 2, 3, 4, 5, 6, 5, 7, 5, 5, 7, 1, 2, 3, 5, 6, 7, 1, 4, 5, 6, 1, 2, 4, 5, 6, 7, 3, 4, 2, 4, 3, 4, 6, 5, 1, 2, 4, 5, 6, 7, 3, 1, 4, 6, 6, 1, 4, 5, 1, 4, 4, 4, 1, 3, 1, 6, 2, 6, 2, 3, 3, 1, 6, 1, 2, 5, 6, 1, 3, 4, 5, 6, 7, 2, 5, 7, 5, 1, 2, 5, 6, 7, 3, 1, 4, 7, 1, 5, 6, 2, 3, 4, 5, 7, 1, 2, 3, 4, 5, 6, 7, 2, 4, 5, 1, 4, 6, 1, 4, 4, 4, 7, 6, 1, 2, 6, 3, 7, 5, 7, 4, 1, 2, 2, 5, 6, 1, 3, 4, 5, 6, 6, 1, 2, 3, 6, 1, 2, 3, 4, 6, 7, 2, 7, 6, 2, 3, 2, 4, 6, 3, 1, 4, 6, 3, 6, 7, 2, 2, 2, 2, 4, 4, 5, 1, 3, 1, 5, 6, 1, 6, 4, 2, 7, 1, 2, 3, 4, 5, 6, 7, 2, 4, 6, 3, 5, 6, 1, 2, 3, 5, 7, 5, 5, 1, 7, 4, 2, 3, 4, 5, 6, 7, 5, 7, 4, 6, 1, 2, 3, 4, 5, 6, 7, 1, 1, 2, 1, 4, 7, 1, 2, 3, 4, 5, 6, 7, 7, 6, 6, 1, 7, 1, 4, 4, 1, 1, 2, 3, 5, 7, 1, 2, 3, 4, 5, 6, 7, 1, 3, 3, 1, 1, 2, 3, 5, 6, 7, 7, 5, 5, 1, 1, 3, 2, 6, 1, 2, 6, 2, 1, 3, 5, 6, 7, 1, 2, 3, 4, 5, 6, 7, 1, 2, 2, 4, 5, 6, 4, 6, 6, 3, 6, 7, 6, 3, 3, 1, 2, 5, 6, 7, 4, 1, 2, 3, 5, 6, 7, 6], \"Freq\": [0.9948515614353175, 0.9978229117885015, 0.9960226981538656, 0.9893056095204878, 0.998100315814658, 0.12863289026321803, 0.6592435625989924, 0.21132546257528675, 0.9984406421535216, 0.6924691038499878, 0.06811171513278569, 0.2383910029647499, 0.9944809673453393, 0.9938092468188248, 0.9977411968248114, 0.9980769943995151, 0.9944136112038343, 0.9938497337244605, 0.30358148578679295, 0.533164984413055, 0.036998993580265385, 0.12522736288705208, 0.10263095076924189, 0.8963103033847125, 0.25145016796987485, 0.05493869216148526, 0.6930727318833525, 0.9801766036176238, 0.014851160660873088, 0.9996604501705137, 0.9936292179570819, 0.40438321207835, 0.5949099177691111, 0.9982985614714673, 0.9974980691007775, 0.3576668350022566, 0.1636780431366259, 0.09179826757927168, 0.08140601087218431, 0.14549159389922303, 0.1602139575675968, 0.9978187826808977, 0.20760878107728922, 0.14315507453368637, 0.03935068399504175, 0.24831638521009106, 0.1546888957046469, 0.13433509363824597, 0.0719167673012832, 0.09870637020418487, 0.5682534957549334, 0.03228713044062122, 0.30073155781835764, 0.9995850660276175, 0.9963488190916118, 0.9980958598549038, 0.9984992992447865, 0.9888270500858679, 0.800651329289027, 0.19864874130620339, 0.34076708221855556, 0.4199859980110611, 0.169754819555369, 0.06915937092996516, 0.9995456587028962, 0.9925756713557105, 0.9990646757871927, 0.9975673742129421, 0.9953242245375618, 0.9973488104096012, 0.9995102269803631, 0.9987269244061848, 0.9972511905411421, 0.9927656281435081, 0.9979735561802547, 0.9982669615143127, 0.9145549196339428, 0.08392386321346769, 0.3815232277983675, 0.16781001932748707, 0.0865387992047579, 0.13093696575328587, 0.23252599090669734, 0.9990468304493219, 0.9963185185209688, 0.14378997626049536, 0.8551719640755776, 0.9986968007266009, 0.9996129964347445, 0.24352214772462108, 0.11668769578471426, 0.6392456377771303, 0.9981586499344482, 0.9913294505123696, 0.9969672949720857, 0.9982927582644905, 0.8884488252468458, 0.08494512888061975, 0.026641881330739834, 0.9979981724929576, 0.9983833274954985, 0.04072870827642072, 0.21650523873255229, 0.2797419173722581, 0.13611963029224822, 0.2829573417098703, 0.045015940726570274, 0.7846280116477303, 0.21372330168016537, 0.6865934128326828, 0.3125736548693536, 0.9991980597396969, 0.999105630785871, 0.3371368913404769, 0.5834690039244931, 0.07921267934074243, 0.9940131979949014, 0.9966649612307888, 0.9983471408669218, 0.9979993520431022, 0.9990222681814287, 0.9954273157531948, 0.992873558153205, 0.9984215748810928, 0.09787239536754401, 0.11322492797421758, 0.5219861086269014, 0.1055486616708808, 0.1592825257942383, 0.162992843045297, 0.8360929171027272, 0.9919271092931382, 0.9989613987010184, 0.10278070994214104, 0.8950486824128117, 0.9974293413921287, 0.195050325998389, 0.30560516664524917, 0.07344000128684282, 0.17530839016859254, 0.11134451808005202, 0.13898322824176707, 0.9969167039968607, 0.9986930965549078, 0.9988837635732455, 0.14749002361852442, 0.12918834185564185, 0.16471513586594336, 0.12272892476285975, 0.1980887908453175, 0.23792186291747372, 0.9989647070166995, 0.9990589630840712, 0.9936064149524332, 0.9994672388338645, 0.9988282277837698, 0.9960846707215122, 0.45801980974003653, 0.5418958654331708, 0.9941152632424096, 0.9995962447990855, 0.7401166244811498, 0.25782751262663006, 0.9979246661550225, 0.4374262056517404, 0.04489099485208792, 0.058462690970161005, 0.3340725198294915, 0.05533076109675952, 0.06994643383929977, 0.999674077327013, 0.33974209351173273, 0.11224959036731258, 0.20055260145626513, 0.24545243760319016, 0.10177296193303006, 0.2715347960079869, 0.7259982966950387, 0.2598253699802524, 0.6359904578621103, 0.104705746111445, 0.9956471472331156, 0.9990145084724866, 0.9008843073524283, 0.09739289809215441, 0.5011647150252785, 0.2386864109844741, 0.2601758627772885, 0.9973773067786723, 0.19858562789388456, 0.7991860634753891, 0.9982314347573881, 0.9975593595391171, 0.9831493817439355, 0.9948012218805418, 0.24258006244106728, 0.6424696199196751, 0.11320402913916473, 0.9987392134273383, 0.15656723082653828, 0.15535353136276667, 0.3556139428850831, 0.16627682653671122, 0.16627682653671122, 0.997620750203339, 0.9979602327153808, 0.9970557044656767, 0.9994196810892021, 0.12627840864959003, 0.8713210196821712, 0.9884113409284029, 0.9983416571812181, 0.997928037615642, 0.9905303204252571, 0.9912265894343943, 0.19690872416156396, 0.13170715986965537, 0.43424241818411125, 0.09910637772370107, 0.13822731629884621, 0.9990164779938318, 0.3784114689148346, 0.05564874542865215, 0.41291369108059894, 0.1524775624745069, 0.9956898814069265, 0.20244883183762338, 0.11423898367980176, 0.08459469044643549, 0.44104924078910807, 0.08604075353098993, 0.0715801226854454, 0.997001390405189, 0.997576417172575, 0.9601049173521116, 0.039426361625105724, 0.9947769289789066, 0.9965444335901243, 0.9981190133054212, 0.9948753608765719, 0.7880986245410225, 0.2107705623772502, 0.09950042523841408, 0.14372283645548703, 0.5361967360070092, 0.22111205608536463, 0.9981425825894772, 0.22872375136160125, 0.35703219724737756, 0.04016612219032997, 0.15954876314492183, 0.08702659807904828, 0.12719272026937825, 0.9948622300717143, 0.1978784364143282, 0.49523089762072414, 0.03369281484892615, 0.07059446920727384, 0.20269169567846052, 0.12020947113338071, 0.46850870800702227, 0.41071569303905076, 0.9968504536175061, 0.9926868425586013, 0.9941343238572503, 0.33043260024074417, 0.07245630511303065, 0.1066938998367704, 0.19348222134578513, 0.2969912286501146, 0.1740099758085311, 0.26957283137551125, 0.292393811809417, 0.21394669156786608, 0.04992089469916875, 0.9970089131798274, 0.9996173398447198, 0.9980000167718317, 0.9945919416224401, 0.9863096719654887, 0.9915950127126227, 0.08616783984505304, 0.2138808881868281, 0.026158094238676818, 0.48777152198003243, 0.1077097998063163, 0.07693557129022593, 0.9926956644698488, 0.993603487640704, 0.2245723092986662, 0.7752991687376383, 0.9935438177384454, 0.9983737483516606, 0.9930948613030229, 0.9983499991456948, 0.2378058003851355, 0.16409764039626804, 0.08883772967079287, 0.23625404964852775, 0.13422643871656914, 0.08844979198664094, 0.050431898939751404, 0.9987905357840526, 0.18040177656853815, 0.220691506668845, 0.18340847284468045, 0.05712722924670374, 0.15995624189077048, 0.10703838743066596, 0.091403566794726, 0.9969295085696293, 0.2936076832564963, 0.7046584398155911, 0.1304720835413179, 0.35511097520376084, 0.09870496754864919, 0.11458852554498354, 0.1401156723248066, 0.11231944583122148, 0.048217943917443565, 0.2687362338510578, 0.2505168281662403, 0.35413969799863976, 0.0751550484498721, 0.05124207848854916, 0.9990427771852005, 0.9955514201714692, 0.997905955614745, 0.995675999223132, 0.15698222086819597, 0.6990941569330327, 0.1444236431987403, 0.9963716970193315, 0.9992983340289076, 0.22460856124933642, 0.7746342506079477, 0.9922818531176871, 0.997381551230431, 0.998625709658513, 0.9971090032662706, 0.8828369467752597, 0.11534553073445604, 0.17445360204458193, 0.12675144523551657, 0.5329012374955588, 0.16627608944874217, 0.20275702397822548, 0.16799867701052967, 0.2363567593803314, 0.2630048253888982, 0.13092310691165418, 0.9955121682968034, 0.9957068974261181, 0.9955705842819976, 0.9922597360458597, 0.12526772006377093, 0.3534524881467395, 0.19283951926829465, 0.12786663541779106, 0.20011648225955106, 0.27765072916010103, 0.27453605751888194, 0.06540810446560072, 0.16819226862583042, 0.15172900423652957, 0.06229343282438164, 0.9975047491341044, 0.9988621639912059, 0.9889195854661466, 0.9866528708785033, 0.9994090803309926, 0.15669611440331918, 0.1851863170221045, 0.03739339093715571, 0.19646368889204036, 0.26175373656009, 0.1626315732822328, 0.13705116467590864, 0.07717444224468642, 0.5615105970216839, 0.22353976374322962, 0.03202475181439801, 0.06404950362879602, 0.057187056811425024, 0.6199076958358473, 0.13496145407496307, 0.09378677317073704, 0.9973310412152506, 0.9983892211193889, 0.9461864825684921, 0.053192766481703985, 0.6289564019296766, 0.3537879760854431, 0.017868079600274905, 0.9965015740701187, 0.16852693884653228, 0.07382374754781725, 0.1692726332662072, 0.3467479051488386, 0.15063027277433416, 0.09022902478066551, 0.9991205302722591, 0.299506399820739, 0.6125498120627544, 0.08799058073829621, 0.9934152888900756, 0.3457611771340025, 0.6127951939359552, 0.0404274607110526, 0.16999312263835653, 0.8297748591619395, 0.9970545111371101, 0.9944549181494818, 0.4753501176410934, 0.524054023137107, 0.3380451524110071, 0.6591880472014638, 0.9995245541297308, 0.9942778619940488, 0.9964098007994177, 0.9971938407701533, 0.9997611734036116, 0.920958947037492, 0.07844129832811446, 0.12109227898503475, 0.03743692594575502, 0.7968056830923661, 0.044369690009783726, 0.22638611555951166, 0.22638611555951166, 0.10399612183515067, 0.12380490694660794, 0.09692155572391592, 0.22284883250389428, 0.8273583112175661, 0.11282158789330446, 0.058991679944211485, 0.9946076459162029, 0.28917243356119166, 0.1425353484574668, 0.5680905255067382, 0.9982752404336105, 0.9939134533494844, 0.9952677571189927, 0.18320962937974825, 0.18975283042902497, 0.6248757002059271, 0.19373285509940727, 0.7501516366058444, 0.0563176904358742, 0.8086694982393772, 0.02916512944469885, 0.03977063106095297, 0.04507338186908004, 0.07556419901581066, 0.05810853311188339, 0.1518569665323886, 0.17200125801117483, 0.07205458105873541, 0.25877666745825406, 0.14023525991001193, 0.1479830643249297, 0.9951312089333266, 0.9939165395826308, 0.9971241962411984, 0.22555536638613363, 0.6155215721260153, 0.15761700301681628, 0.9940131245456902, 0.9984421352920141, 0.9962621151110723, 0.9977848067967083, 0.9961234418717478, 0.9947371550988168, 0.812412198974835, 0.1870502313790857, 0.9939243677706892, 0.09046490815388919, 0.9082676778650475, 0.988331568866438, 0.9970036605139139, 0.9936561111034242, 0.9955701197971801, 0.9990027812790704, 0.9951882439425831, 0.9943605984137394, 0.9904492016057709, 0.1938552174461944, 0.035309343177699695, 0.39601851564008284, 0.08238846741463263, 0.29216750629390725, 0.9965499914006473, 0.3931588401413844, 0.07102224209005653, 0.09638732855079102, 0.4396614986527309, 0.2734954181467346, 0.11748084971938773, 0.2001873679218367, 0.2716157245512244, 0.11842069651714282, 0.018796935955102036, 0.8631437433687985, 0.13588293964342504, 0.99754808622129, 0.9983317555021752, 0.9991984469167804, 0.5193144030628014, 0.09872383183225131, 0.38137151474924474, 0.9972396039935669, 0.7561611049157497, 0.20783375398269147, 0.03537595812471344, 0.17389585902626506, 0.5796528634208835, 0.24577281409045462, 0.9972711689727571, 0.9991331444344888, 0.9956623465401678, 0.12714713068940742, 0.8707651980547296, 0.9935662495941344, 0.9988902278331732, 0.865278178942644, 0.13199158661836943, 0.3468529687477095, 0.6083065323113238, 0.04467045809629592, 0.9967164819270868, 0.9990708368146303, 0.9978298380047702, 0.7787305182335961, 0.22062577952194826, 0.2598411146186857, 0.16600960100638254, 0.12125918682205333, 0.18405412285490239, 0.11115425458688223, 0.08444836225107286, 0.07362164914196095, 0.5683378221646852, 0.4042463005772874, 0.027348586931232974, 0.9976591127759704, 0.783779740448103, 0.21450813949105976, 0.2054433776120111, 0.07653772891427864, 0.2792955721784203, 0.10205030521903818, 0.3356917934836782, 0.9879817763841613, 0.9943458296317671, 0.7731769371522867, 0.22616740338468252, 0.9990564407329446, 0.09505331052703822, 0.6107680804077775, 0.0687619693174319, 0.01617928689821927, 0.17392733415585718, 0.036403395520993365, 0.8416001077641807, 0.15349939072428453, 0.8229993246856656, 0.17294913344843696, 0.26813133492397534, 0.14082344907389274, 0.1988095751631427, 0.15128711092458447, 0.08152936525330633, 0.08283732298464279, 0.07629753432796046, 0.9975059895402074, 0.8656869938643883, 0.13386912276253427, 0.7593593144316083, 0.08737397969401352, 0.15330161891767824, 0.26398199610765644, 0.15514731350186828, 0.015051605041226025, 0.40407770456829867, 0.032418841627256056, 0.03473447317206006, 0.09494089333696416, 0.9969678834355179, 0.9997437669283802, 0.9967651952428317, 0.9993572636258368, 0.9972954959119275, 0.9954585305909633, 0.9909960385852699, 0.9986617290451443, 0.9984171156827585, 0.3648696419625096, 0.1610521861031526, 0.14922349446845778, 0.22201544298965672, 0.10281862728619348, 0.22121815508399081, 0.09055713950806642, 0.1513597903206253, 0.06209632423410268, 0.15394713716371292, 0.3014259072197068, 0.020698774744700894, 0.12082990869803757, 0.878995040035724, 0.9968303196521179, 0.9986382980777913, 0.05817128420956668, 0.21450661052277714, 0.3267590105209253, 0.12770414736631436, 0.08907477894589898, 0.18360311578644484, 0.9925234999815218, 0.9931003404218474, 0.9934006810434448, 0.9978547915452783, 0.9991585080771916, 0.9944354291961762, 0.8762982236765426, 0.12215066148218473, 0.191193364711044, 0.32266227954182086, 0.4860593594029292, 0.9993938187039563, 0.09757032204611842, 0.08035202992033282, 0.06313373779454722, 0.5825522169224129, 0.17505263661215364, 0.0999932360909635, 0.2690294209114018, 0.008927967508121741, 0.08332769674246958, 0.34402434797962445, 0.1273723364492035, 0.06666215739397567, 0.33156461316666475, 0.6680195598608614, 0.19108456961065093, 0.09119945367781068, 0.716567136039941, 0.994509537752985, 0.14101436471467832, 0.8580874108169787, 0.9992605454649001, 0.27755512318739317, 0.5576107429800782, 0.1650327759492608, 0.9997008191715477, 0.9992358434454793, 0.9983923388912059, 0.1431940927083303, 0.12351856851939942, 0.6383614514630908, 0.08307443546437483, 0.010930846771628267, 0.9925904005135502, 0.10623354544539061, 0.25761634770507225, 0.09029851362858202, 0.21822140793573988, 0.19830261816472913, 0.12880817385253612, 0.994591423476135], \"Term\": [\"absorbent\", \"acceleration\", \"accessory\", \"accident\", \"accurate\", \"adapter\", \"adapter\", \"adapter\", \"adhesive\", \"air\", \"air\", \"air\", \"amazon\", \"amp\", \"angle\", \"app\", \"applicator\", \"apply\", \"area\", \"area\", \"area\", \"area\", \"arm\", \"arm\", \"auto\", \"auto\", \"auto\", \"automatic\", \"automatic\", \"bag\", \"ball\", \"bar\", \"bar\", \"battery\", \"beam\", \"big\", \"big\", \"big\", \"big\", \"big\", \"big\", \"bike\", \"bit\", \"bit\", \"bit\", \"bit\", \"bit\", \"bit\", \"bit\", \"black\", \"black\", \"black\", \"black\", \"blade\", \"block\", \"board\", \"boot\", \"bosch\", \"bottle\", \"bottle\", \"brand\", \"brand\", \"brand\", \"brand\", \"bright\", \"brightness\", \"brush\", \"bucket\", \"buffing\", \"bug\", \"bulb\", \"bumper\", \"button\", \"cabin\", \"cable\", \"camper\", \"cap\", \"cap\", \"car\", \"car\", \"car\", \"car\", \"car\", \"carpet\", \"cell\", \"change\", \"change\", \"charge\", \"charger\", \"cheap\", \"cheap\", \"cheap\", \"chemical\", \"chrome\", \"cigarette\", \"clay\", \"clean\", \"clean\", \"clean\", \"cleaner\", \"cleaning\", \"clear\", \"clear\", \"clear\", \"clear\", \"clear\", \"clear\", \"clip\", \"clip\", \"cloth\", \"cloth\", \"coat\", \"code\", \"color\", \"color\", \"color\", \"compact\", \"compound\", \"compressor\", \"conditioner\", \"connector\", \"construction\", \"coolant\", \"cord\", \"cost\", \"cost\", \"cost\", \"cost\", \"cost\", \"cover\", \"cover\", \"crash\", \"current\", \"cut\", \"cut\", \"datum\", \"day\", \"day\", \"day\", \"day\", \"day\", \"day\", \"dealer\", \"detailer\", \"device\", \"different\", \"different\", \"different\", \"different\", \"different\", \"different\", \"dirt\", \"dirty\", \"dish\", \"door\", \"drain\", \"drill\", \"dry\", \"dry\", \"drying\", \"dust\", \"edge\", \"edge\", \"electrical\", \"end\", \"end\", \"end\", \"end\", \"end\", \"end\", \"engine\", \"enough\", \"enough\", \"enough\", \"enough\", \"enough\", \"factory\", \"factory\", \"feature\", \"feature\", \"feature\", \"film\", \"filter\", \"finish\", \"finish\", \"fit\", \"fit\", \"fit\", \"fitting\", \"fix\", \"fix\", \"floor\", \"fluid\", \"fog\", \"frame\", \"front\", \"front\", \"front\", \"fuel\", \"full\", \"full\", \"full\", \"full\", \"full\", \"fuse\", \"gas\", \"gasket\", \"gauge\", \"glass\", \"glass\", \"gloss\", \"grime\", \"griot\", \"grit\", \"habit\", \"hard\", \"hard\", \"hard\", \"hard\", \"hard\", \"headlight\", \"heavy\", \"heavy\", \"heavy\", \"heavy\", \"helmet\", \"high\", \"high\", \"high\", \"high\", \"high\", \"high\", \"hitch\", \"holder\", \"hose\", \"hose\", \"husband\", \"icon\", \"incandescent\", \"indicator\", \"information\", \"information\", \"installation\", \"installation\", \"installation\", \"installation\", \"inverter\", \"issue\", \"issue\", \"issue\", \"issue\", \"issue\", \"issue\", \"jack\", \"job\", \"job\", \"job\", \"job\", \"job\", \"kit\", \"kit\", \"kit\", \"kitchen\", \"lamp\", \"laptop\", \"large\", \"large\", \"large\", \"large\", \"large\", \"last\", \"last\", \"last\", \"last\", \"last\", \"leak\", \"leather\", \"led\", \"leg\", \"lens\", \"lense\", \"less\", \"less\", \"less\", \"less\", \"less\", \"less\", \"lexol\", \"license\", \"light\", \"light\", \"lighting\", \"link\", \"lint\", \"liquid\", \"little\", \"little\", \"little\", \"little\", \"little\", \"little\", \"little\", \"lock\", \"long\", \"long\", \"long\", \"long\", \"long\", \"long\", \"long\", \"longevity\", \"look\", \"look\", \"lot\", \"lot\", \"lot\", \"lot\", \"lot\", \"lot\", \"lot\", \"low\", \"low\", \"low\", \"low\", \"low\", \"manual\", \"map\", \"mat\", \"match\", \"material\", \"material\", \"material\", \"measure\", \"meguiar\", \"metal\", \"metal\", \"micro\", \"mile\", \"mileage\", \"minor\", \"mirror\", \"mirror\", \"money\", \"money\", \"money\", \"money\", \"month\", \"month\", \"month\", \"month\", \"month\", \"motor\", \"mower\", \"mpg\", \"mud\", \"new\", \"new\", \"new\", \"new\", \"new\", \"nice\", \"nice\", \"nice\", \"nice\", \"nice\", \"nice\", \"night\", \"odor\", \"oem\", \"offer\", \"oil\", \"old\", \"old\", \"old\", \"old\", \"old\", \"old\", \"one\", \"one\", \"one\", \"one\", \"original\", \"original\", \"original\", \"original\", \"original\", \"original\", \"outlet\", \"pad\", \"paint\", \"paint\", \"panel\", \"panel\", \"panel\", \"park\", \"part\", \"part\", \"part\", \"part\", \"part\", \"part\", \"phone\", \"piece\", \"piece\", \"piece\", \"pink\", \"place\", \"place\", \"place\", \"plastic\", \"plastic\", \"plate\", \"pleasant\", \"plug\", \"plug\", \"pocket\", \"pocket\", \"polish\", \"polisher\", \"polishing\", \"port\", \"power\", \"pressure\", \"pressure\", \"price\", \"price\", \"price\", \"price\", \"problem\", \"problem\", \"problem\", \"problem\", \"problem\", \"problem\", \"product\", \"product\", \"product\", \"purple\", \"quality\", \"quality\", \"quality\", \"rain\", \"reader\", \"reading\", \"repair\", \"repair\", \"repair\", \"replacement\", \"replacement\", \"replacement\", \"result\", \"result\", \"result\", \"result\", \"result\", \"review\", \"review\", \"review\", \"review\", \"review\", \"review\", \"review\", \"rinse\", \"roll\", \"royal\", \"rubber\", \"rubber\", \"rubber\", \"rust\", \"sand\", \"scan\", \"scanner\", \"scent\", \"scraper\", \"seal\", \"seal\", \"season\", \"seat\", \"seat\", \"seller\", \"sensor\", \"setting\", \"sewer\", \"shine\", \"shiny\", \"shipping\", \"shower\", \"side\", \"side\", \"side\", \"side\", \"side\", \"signal\", \"size\", \"size\", \"size\", \"size\", \"small\", \"small\", \"small\", \"small\", \"small\", \"small\", \"smell\", \"smell\", \"snow\", \"soap\", \"socket\", \"soft\", \"soft\", \"soft\", \"solar\", \"solid\", \"solid\", \"solid\", \"speed\", \"speed\", \"speed\", \"sponge\", \"spray\", \"sprayer\", \"stick\", \"stick\", \"stiff\", \"stock\", \"storage\", \"storage\", \"store\", \"store\", \"store\", \"strap\", \"streak\", \"strip\", \"stuff\", \"stuff\", \"sure\", \"sure\", \"sure\", \"sure\", \"sure\", \"sure\", \"sure\", \"surface\", \"surface\", \"surface\", \"switch\", \"synthetic\", \"synthetic\", \"system\", \"system\", \"system\", \"system\", \"system\", \"tail\", \"tall\", \"tank\", \"tank\", \"tape\", \"test\", \"test\", \"test\", \"test\", \"test\", \"test\", \"thank\", \"thank\", \"thin\", \"thin\", \"thing\", \"thing\", \"thing\", \"thing\", \"thing\", \"thing\", \"thing\", \"thread\", \"tire\", \"tire\", \"tool\", \"tool\", \"tool\", \"top\", \"top\", \"top\", \"top\", \"top\", \"top\", \"top\", \"torque\", \"towel\", \"traditional\", \"trailer\", \"transmission\", \"travel\", \"trigger\", \"trim\", \"trip\", \"truck\", \"truck\", \"truck\", \"truck\", \"truck\", \"type\", \"type\", \"type\", \"type\", \"type\", \"type\", \"type\", \"unit\", \"unit\", \"usb\", \"valve\", \"vehicle\", \"vehicle\", \"vehicle\", \"vehicle\", \"vehicle\", \"vehicle\", \"vent\", \"visibility\", \"vision\", \"visor\", \"volt\", \"voltage\", \"wash\", \"wash\", \"water\", \"water\", \"water\", \"wax\", \"weather\", \"weather\", \"weather\", \"weather\", \"weather\", \"well\", \"well\", \"well\", \"well\", \"well\", \"well\", \"well\", \"wheel\", \"wheel\", \"white\", \"white\", \"white\", \"wind\", \"window\", \"window\", \"windshield\", \"winter\", \"winter\", \"winter\", \"wiper\", \"wire\", \"wiring\", \"worth\", \"worth\", \"worth\", \"worth\", \"worth\", \"wrap\", \"year\", \"year\", \"year\", \"year\", \"year\", \"year\", \"zwipe\"]}, \"R\": 30, \"lambda.step\": 0.01, \"plot.opts\": {\"xlab\": \"PC1\", \"ylab\": \"PC2\"}, \"topic.order\": [5, 3, 7, 6, 2, 1, 4]};\n",
       "\n",
       "function LDAvis_load_lib(url, callback){\n",
       "  var s = document.createElement('script');\n",
       "  s.src = url;\n",
       "  s.async = true;\n",
       "  s.onreadystatechange = s.onload = callback;\n",
       "  s.onerror = function(){console.warn(\"failed to load library \" + url);};\n",
       "  document.getElementsByTagName(\"head\")[0].appendChild(s);\n",
       "}\n",
       "\n",
       "if(typeof(LDAvis) !== \"undefined\"){\n",
       "   // already loaded: just create the visualization\n",
       "   !function(LDAvis){\n",
       "       new LDAvis(\"#\" + \"ldavis_el806631407014539554087645922045\", ldavis_el806631407014539554087645922045_data);\n",
       "   }(LDAvis);\n",
       "}else if(typeof define === \"function\" && define.amd){\n",
       "   // require.js is available: use it to load d3/LDAvis\n",
       "   require.config({paths: {d3: \"https://d3js.org/d3.v5\"}});\n",
       "   require([\"d3\"], function(d3){\n",
       "      window.d3 = d3;\n",
       "      LDAvis_load_lib(\"https://cdn.jsdelivr.net/gh/bmabey/pyLDAvis@3.2.2/pyLDAvis/js/ldavis.v3.0.0.js\", function(){\n",
       "        new LDAvis(\"#\" + \"ldavis_el806631407014539554087645922045\", ldavis_el806631407014539554087645922045_data);\n",
       "      });\n",
       "    });\n",
       "}else{\n",
       "    // require.js not available: dynamically load d3 & LDAvis\n",
       "    LDAvis_load_lib(\"https://d3js.org/d3.v5.js\", function(){\n",
       "         LDAvis_load_lib(\"https://cdn.jsdelivr.net/gh/bmabey/pyLDAvis@3.2.2/pyLDAvis/js/ldavis.v3.0.0.js\", function(){\n",
       "                 new LDAvis(\"#\" + \"ldavis_el806631407014539554087645922045\", ldavis_el806631407014539554087645922045_data);\n",
       "            })\n",
       "         });\n",
       "}\n",
       "</script>"
      ],
      "text/plain": [
       "PreparedData(topic_coordinates=              x         y  topics  cluster       Freq\n",
       "topic                                                \n",
       "4      0.137599 -0.072878       1        1  18.645710\n",
       "2     -0.021960  0.227137       2        1  17.001207\n",
       "6     -0.050346 -0.210672       3        1  14.680662\n",
       "5      0.259416 -0.043275       4        1  13.819852\n",
       "1     -0.062008  0.019750       5        1  13.260401\n",
       "0      0.003645  0.141305       6        1  11.790368\n",
       "3     -0.266345 -0.061368       7        1  10.801801, topic_info=         Term         Freq        Total Category  logprob  loglift\n",
       "134     light  4764.000000  4764.000000  Default  30.0000  30.0000\n",
       "486     towel  2090.000000  2090.000000  Default  29.0000  29.0000\n",
       "1219  leather  1721.000000  1721.000000  Default  28.0000  28.0000\n",
       "150       oil  1664.000000  1664.000000  Default  27.0000  27.0000\n",
       "849     wiper  1729.000000  1729.000000  Default  26.0000  26.0000\n",
       "...       ...          ...          ...      ...      ...      ...\n",
       "176    system   250.341632   744.730747   Topic7  -5.2420   1.1353\n",
       "174     stuff   252.703248  1146.738158   Topic7  -5.2326   0.7130\n",
       "241      year   291.185046  2259.173399   Topic7  -5.0908   0.1767\n",
       "231       old   273.722307  1684.789703   Topic7  -5.1527   0.4082\n",
       "463       air   230.997753   968.996301   Topic7  -5.3224   0.7916\n",
       "\n",
       "[405 rows x 6 columns], token_table=      Topic      Freq          Term\n",
       "term                               \n",
       "1185      6  0.994852     absorbent\n",
       "1504      7  0.997823  acceleration\n",
       "1431      1  0.996023     accessory\n",
       "3147      5  0.989306      accident\n",
       "1055      1  0.998100      accurate\n",
       "...     ...       ...           ...\n",
       "241       3  0.090299          year\n",
       "241       5  0.218221          year\n",
       "241       6  0.198303          year\n",
       "241       7  0.128808          year\n",
       "5576      6  0.994591         zwipe\n",
       "\n",
       "[671 rows x 3 columns], R=30, lambda_step=0.01, plot_opts={'xlab': 'PC1', 'ylab': 'PC2'}, topic_order=[5, 3, 7, 6, 2, 1, 4])"
      ]
     },
     "execution_count": 28,
     "metadata": {},
     "output_type": "execute_result"
    }
   ],
   "source": [
    "pyLDAvis.enable_notebook()\n",
    "vis=pyLDAvis.gensim.prepare(lda_model, doc_term_mat, dictionary)\n",
    "vis"
   ]
  },
  {
   "cell_type": "markdown",
   "metadata": {},
   "source": [
    "#### Next steps\n",
    "* set up for sentiment analysis\n",
    "* create some word clouds\n",
    "* create model\n",
    "* predict\n"
   ]
  },
  {
   "cell_type": "markdown",
   "metadata": {},
   "source": [
    "### More Data Explorations"
   ]
  },
  {
   "cell_type": "code",
   "execution_count": 48,
   "metadata": {},
   "outputs": [],
   "source": [
    "import warnings\n",
    "warnings.filterwarnings(\"ignore\", category=DeprecationWarning)"
   ]
  },
  {
   "cell_type": "markdown",
   "metadata": {},
   "source": [
    "### Data Cleaning and Preprocessing for Sentiment Analysis\n",
    "* Combine text columns `reviewText` and `summary` into `reviews`\n",
    "* Delete columns not using `reviewerID`, `reviewerName`, `helpful`, `unixReviewTime`, `reviewTime`\n",
    "* Change name `overall` to `ratings`\n"
   ]
  },
  {
   "cell_type": "code",
   "execution_count": 60,
   "metadata": {},
   "outputs": [],
   "source": [
    "#import libraries\n",
    "pd.set_option(\"display.max_colwidth\", 50)\n",
    "\n",
    "\n",
    "import seaborn as sns\n",
    "import matplotlib.pyplot as plt\n",
    "%matplotlib inline"
   ]
  },
  {
   "cell_type": "code",
   "execution_count": null,
   "metadata": {},
   "outputs": [],
   "source": []
  },
  {
   "cell_type": "code",
   "execution_count": 52,
   "metadata": {},
   "outputs": [
    {
     "data": {
      "text/html": [
       "<div>\n",
       "<style scoped>\n",
       "    .dataframe tbody tr th:only-of-type {\n",
       "        vertical-align: middle;\n",
       "    }\n",
       "\n",
       "    .dataframe tbody tr th {\n",
       "        vertical-align: top;\n",
       "    }\n",
       "\n",
       "    .dataframe thead th {\n",
       "        text-align: right;\n",
       "    }\n",
       "</style>\n",
       "<table border=\"1\" class=\"dataframe\">\n",
       "  <thead>\n",
       "    <tr style=\"text-align: right;\">\n",
       "      <th></th>\n",
       "      <th>reviewerID</th>\n",
       "      <th>asin</th>\n",
       "      <th>reviewerName</th>\n",
       "      <th>helpful</th>\n",
       "      <th>reviewText</th>\n",
       "      <th>overall</th>\n",
       "      <th>summary</th>\n",
       "      <th>unixReviewTime</th>\n",
       "      <th>reviewTime</th>\n",
       "    </tr>\n",
       "  </thead>\n",
       "  <tbody>\n",
       "    <tr>\n",
       "      <th>0</th>\n",
       "      <td>A3F73SC1LY51OO</td>\n",
       "      <td>B00002243X</td>\n",
       "      <td>Alan Montgomery</td>\n",
       "      <td>[4, 4]</td>\n",
       "      <td>I needed a set of jumper cables for my new car and these had good reviews and were at a good price.  They have been used a few times already and do what they are supposed to - no complaints there....</td>\n",
       "      <td>5</td>\n",
       "      <td>Work Well - Should Have Bought Longer Ones</td>\n",
       "      <td>1313539200</td>\n",
       "      <td>08 17, 2011</td>\n",
       "    </tr>\n",
       "    <tr>\n",
       "      <th>1</th>\n",
       "      <td>A20S66SKYXULG2</td>\n",
       "      <td>B00002243X</td>\n",
       "      <td>alphonse</td>\n",
       "      <td>[1, 1]</td>\n",
       "      <td>These long cables work fine for my truck, but the quality seems a little on the shabby side. For the money I was not expecting 200 dollar snap-on jumper cables but these seem more like what you wo...</td>\n",
       "      <td>4</td>\n",
       "      <td>Okay long cables</td>\n",
       "      <td>1315094400</td>\n",
       "      <td>09 4, 2011</td>\n",
       "    </tr>\n",
       "    <tr>\n",
       "      <th>2</th>\n",
       "      <td>A2I8LFSN2IS5EO</td>\n",
       "      <td>B00002243X</td>\n",
       "      <td>Chris</td>\n",
       "      <td>[0, 0]</td>\n",
       "      <td>Can't comment much on these since they have not yet been used (I will come back and update my review is I find any issues after first use) ... but they are built solid, nice tough big hard clamps ...</td>\n",
       "      <td>5</td>\n",
       "      <td>Looks and feels heavy Duty</td>\n",
       "      <td>1374710400</td>\n",
       "      <td>07 25, 2013</td>\n",
       "    </tr>\n",
       "    <tr>\n",
       "      <th>3</th>\n",
       "      <td>A3GT2EWQSO45ZG</td>\n",
       "      <td>B00002243X</td>\n",
       "      <td>DeusEx</td>\n",
       "      <td>[19, 19]</td>\n",
       "      <td>I absolutley love Amazon!!!  For the price of a set of cheap Booster/Jumper Cables in a brick and morter store, you can buy extra long and heavy duty jumpers!  First off, don't be the person that ...</td>\n",
       "      <td>5</td>\n",
       "      <td>Excellent choice for Jumper Cables!!!</td>\n",
       "      <td>1292889600</td>\n",
       "      <td>12 21, 2010</td>\n",
       "    </tr>\n",
       "    <tr>\n",
       "      <th>4</th>\n",
       "      <td>A3ESWJPAVRPWB4</td>\n",
       "      <td>B00002243X</td>\n",
       "      <td>E. Hernandez</td>\n",
       "      <td>[0, 0]</td>\n",
       "      <td>I purchased the 12' feet long cable set and they arrived in a retail cardboard box with handle, which could be used as a storage and carrying case for these cables, although I will not need to sto...</td>\n",
       "      <td>5</td>\n",
       "      <td>Excellent, High Quality Starter Cables</td>\n",
       "      <td>1341360000</td>\n",
       "      <td>07 4, 2012</td>\n",
       "    </tr>\n",
       "  </tbody>\n",
       "</table>\n",
       "</div>"
      ],
      "text/plain": [
       "       reviewerID        asin     reviewerName   helpful  \\\n",
       "0  A3F73SC1LY51OO  B00002243X  Alan Montgomery    [4, 4]   \n",
       "1  A20S66SKYXULG2  B00002243X         alphonse    [1, 1]   \n",
       "2  A2I8LFSN2IS5EO  B00002243X            Chris    [0, 0]   \n",
       "3  A3GT2EWQSO45ZG  B00002243X           DeusEx  [19, 19]   \n",
       "4  A3ESWJPAVRPWB4  B00002243X     E. Hernandez    [0, 0]   \n",
       "\n",
       "                                                                                                                                                                                                reviewText  \\\n",
       "0  I needed a set of jumper cables for my new car and these had good reviews and were at a good price.  They have been used a few times already and do what they are supposed to - no complaints there....   \n",
       "1  These long cables work fine for my truck, but the quality seems a little on the shabby side. For the money I was not expecting 200 dollar snap-on jumper cables but these seem more like what you wo...   \n",
       "2  Can't comment much on these since they have not yet been used (I will come back and update my review is I find any issues after first use) ... but they are built solid, nice tough big hard clamps ...   \n",
       "3  I absolutley love Amazon!!!  For the price of a set of cheap Booster/Jumper Cables in a brick and morter store, you can buy extra long and heavy duty jumpers!  First off, don't be the person that ...   \n",
       "4  I purchased the 12' feet long cable set and they arrived in a retail cardboard box with handle, which could be used as a storage and carrying case for these cables, although I will not need to sto...   \n",
       "\n",
       "   overall                                     summary  unixReviewTime  \\\n",
       "0        5  Work Well - Should Have Bought Longer Ones      1313539200   \n",
       "1        4                            Okay long cables      1315094400   \n",
       "2        5                  Looks and feels heavy Duty      1374710400   \n",
       "3        5       Excellent choice for Jumper Cables!!!      1292889600   \n",
       "4        5      Excellent, High Quality Starter Cables      1341360000   \n",
       "\n",
       "    reviewTime  \n",
       "0  08 17, 2011  \n",
       "1   09 4, 2011  \n",
       "2  07 25, 2013  \n",
       "3  12 21, 2010  \n",
       "4   07 4, 2012  "
      ]
     },
     "execution_count": 52,
     "metadata": {},
     "output_type": "execute_result"
    }
   ],
   "source": [
    "datafile = os.path.join(data_dir,'reviews_Automotive_5.json')\n",
    "data = pd.read_json(datafile, lines=True)\n",
    "data.head()"
   ]
  },
  {
   "cell_type": "code",
   "execution_count": 53,
   "metadata": {},
   "outputs": [
    {
     "data": {
      "text/html": [
       "<div>\n",
       "<style scoped>\n",
       "    .dataframe tbody tr th:only-of-type {\n",
       "        vertical-align: middle;\n",
       "    }\n",
       "\n",
       "    .dataframe tbody tr th {\n",
       "        vertical-align: top;\n",
       "    }\n",
       "\n",
       "    .dataframe thead th {\n",
       "        text-align: right;\n",
       "    }\n",
       "</style>\n",
       "<table border=\"1\" class=\"dataframe\">\n",
       "  <thead>\n",
       "    <tr style=\"text-align: right;\">\n",
       "      <th></th>\n",
       "      <th>asin</th>\n",
       "      <th>ratings</th>\n",
       "      <th>reviews</th>\n",
       "    </tr>\n",
       "  </thead>\n",
       "  <tbody>\n",
       "    <tr>\n",
       "      <th>0</th>\n",
       "      <td>B00002243X</td>\n",
       "      <td>5</td>\n",
       "      <td>I needed a set of jumper cables for my new car and these had good reviews and were at a good price.  They have been used a few times already and do what they are supposed to - no complaints there....</td>\n",
       "    </tr>\n",
       "    <tr>\n",
       "      <th>1</th>\n",
       "      <td>B00002243X</td>\n",
       "      <td>4</td>\n",
       "      <td>These long cables work fine for my truck, but the quality seems a little on the shabby side. For the money I was not expecting 200 dollar snap-on jumper cables but these seem more like what you wo...</td>\n",
       "    </tr>\n",
       "    <tr>\n",
       "      <th>2</th>\n",
       "      <td>B00002243X</td>\n",
       "      <td>5</td>\n",
       "      <td>Can't comment much on these since they have not yet been used (I will come back and update my review is I find any issues after first use) ... but they are built solid, nice tough big hard clamps ...</td>\n",
       "    </tr>\n",
       "    <tr>\n",
       "      <th>3</th>\n",
       "      <td>B00002243X</td>\n",
       "      <td>5</td>\n",
       "      <td>I absolutley love Amazon!!!  For the price of a set of cheap Booster/Jumper Cables in a brick and morter store, you can buy extra long and heavy duty jumpers!  First off, don't be the person that ...</td>\n",
       "    </tr>\n",
       "    <tr>\n",
       "      <th>4</th>\n",
       "      <td>B00002243X</td>\n",
       "      <td>5</td>\n",
       "      <td>I purchased the 12' feet long cable set and they arrived in a retail cardboard box with handle, which could be used as a storage and carrying case for these cables, although I will not need to sto...</td>\n",
       "    </tr>\n",
       "  </tbody>\n",
       "</table>\n",
       "</div>"
      ],
      "text/plain": [
       "         asin  ratings  \\\n",
       "0  B00002243X        5   \n",
       "1  B00002243X        4   \n",
       "2  B00002243X        5   \n",
       "3  B00002243X        5   \n",
       "4  B00002243X        5   \n",
       "\n",
       "                                                                                                                                                                                                   reviews  \n",
       "0  I needed a set of jumper cables for my new car and these had good reviews and were at a good price.  They have been used a few times already and do what they are supposed to - no complaints there....  \n",
       "1  These long cables work fine for my truck, but the quality seems a little on the shabby side. For the money I was not expecting 200 dollar snap-on jumper cables but these seem more like what you wo...  \n",
       "2  Can't comment much on these since they have not yet been used (I will come back and update my review is I find any issues after first use) ... but they are built solid, nice tough big hard clamps ...  \n",
       "3  I absolutley love Amazon!!!  For the price of a set of cheap Booster/Jumper Cables in a brick and morter store, you can buy extra long and heavy duty jumpers!  First off, don't be the person that ...  \n",
       "4  I purchased the 12' feet long cable set and they arrived in a retail cardboard box with handle, which could be used as a storage and carrying case for these cables, although I will not need to sto...  "
      ]
     },
     "execution_count": 53,
     "metadata": {},
     "output_type": "execute_result"
    }
   ],
   "source": [
    "data['reviews'] = data['reviewText']+' '+data['summary']\n",
    "data.rename(columns={'overall':'ratings'},inplace=True)\n",
    "data.drop(columns=['reviewText','summary','reviewerID','reviewerName','helpful','unixReviewTime','reviewTime'],axis=1,inplace=True)\n",
    "data.head()"
   ]
  },
  {
   "cell_type": "code",
   "execution_count": 49,
   "metadata": {},
   "outputs": [
    {
     "data": {
      "text/plain": [
       "0"
      ]
     },
     "execution_count": 49,
     "metadata": {},
     "output_type": "execute_result"
    }
   ],
   "source": [
    "data.reviews.isnull().sum()"
   ]
  },
  {
   "cell_type": "code",
   "execution_count": 54,
   "metadata": {},
   "outputs": [
    {
     "name": "stdout",
     "output_type": "stream",
     "text": [
      "Total ratings per rating: \n",
      " 5    13928\n",
      "4     3967\n",
      "3     1430\n",
      "2      606\n",
      "1      542\n",
      "Name: ratings, dtype: int64\n",
      "Number of unique products: 1835\n",
      "Number of rows: 20473\n"
     ]
    }
   ],
   "source": [
    "print('Total ratings per rating:','\\n',data.ratings.value_counts())\n",
    "\n",
    "#Number of unique ids\n",
    "print('Number of unique products:',len(data.asin.unique()))\n",
    "print('Number of rows:',data.shape[0]) "
   ]
  },
  {
   "cell_type": "code",
   "execution_count": 58,
   "metadata": {},
   "outputs": [
    {
     "data": {
      "image/png": "[encoded data removed]",
      "text/plain": [
       "<Figure size 720x432 with 1 Axes>"
      ]
     },
     "metadata": {
      "needs_background": "light"
     },
     "output_type": "display_data"
    }
   ],
   "source": [
    "#Plot ratings percentages\n",
    "ratings_pct=pd.DataFrame(data=data['ratings'].value_counts(normalize=True)*100)\n",
    "plt.figure(figsize=(10,6))\n",
    "sns.barplot(x=ratings_pct.index, y=ratings_pct.ratings,palette=\"husl\")\n",
    "plt.xlabel('Ratings',fontsize=20)\n",
    "plt.ylabel('Percent of Total Ratings',fontsize=20)\n",
    "plt.show()"
   ]
  },
  {
   "cell_type": "markdown",
   "metadata": {},
   "source": [
    "There are very few negative ratings.  Most of the reviews have 5 star ratings."
   ]
  },
  {
   "cell_type": "code",
   "execution_count": 61,
   "metadata": {},
   "outputs": [
    {
     "data": {
      "text/html": [
       "<div>\n",
       "<style scoped>\n",
       "    .dataframe tbody tr th:only-of-type {\n",
       "        vertical-align: middle;\n",
       "    }\n",
       "\n",
       "    .dataframe tbody tr th {\n",
       "        vertical-align: top;\n",
       "    }\n",
       "\n",
       "    .dataframe thead th {\n",
       "        text-align: right;\n",
       "    }\n",
       "</style>\n",
       "<table border=\"1\" class=\"dataframe\">\n",
       "  <thead>\n",
       "    <tr style=\"text-align: right;\">\n",
       "      <th></th>\n",
       "      <th>asin</th>\n",
       "      <th>ratings</th>\n",
       "      <th>reviews</th>\n",
       "      <th>sentiment</th>\n",
       "    </tr>\n",
       "  </thead>\n",
       "  <tbody>\n",
       "    <tr>\n",
       "      <th>0</th>\n",
       "      <td>B00002243X</td>\n",
       "      <td>5</td>\n",
       "      <td>I needed a set of jumper cables for my new car...</td>\n",
       "      <td>2</td>\n",
       "    </tr>\n",
       "    <tr>\n",
       "      <th>1</th>\n",
       "      <td>B00002243X</td>\n",
       "      <td>4</td>\n",
       "      <td>These long cables work fine for my truck, but ...</td>\n",
       "      <td>2</td>\n",
       "    </tr>\n",
       "    <tr>\n",
       "      <th>2</th>\n",
       "      <td>B00002243X</td>\n",
       "      <td>5</td>\n",
       "      <td>Can't comment much on these since they have no...</td>\n",
       "      <td>2</td>\n",
       "    </tr>\n",
       "    <tr>\n",
       "      <th>3</th>\n",
       "      <td>B00002243X</td>\n",
       "      <td>5</td>\n",
       "      <td>I absolutley love Amazon!!!  For the price of ...</td>\n",
       "      <td>2</td>\n",
       "    </tr>\n",
       "    <tr>\n",
       "      <th>4</th>\n",
       "      <td>B00002243X</td>\n",
       "      <td>5</td>\n",
       "      <td>I purchased the 12' feet long cable set and th...</td>\n",
       "      <td>2</td>\n",
       "    </tr>\n",
       "  </tbody>\n",
       "</table>\n",
       "</div>"
      ],
      "text/plain": [
       "         asin  ratings                                            reviews  \\\n",
       "0  B00002243X        5  I needed a set of jumper cables for my new car...   \n",
       "1  B00002243X        4  These long cables work fine for my truck, but ...   \n",
       "2  B00002243X        5  Can't comment much on these since they have no...   \n",
       "3  B00002243X        5  I absolutley love Amazon!!!  For the price of ...   \n",
       "4  B00002243X        5  I purchased the 12' feet long cable set and th...   \n",
       "\n",
       "   sentiment  \n",
       "0          2  \n",
       "1          2  \n",
       "2          2  \n",
       "3          2  \n",
       "4          2  "
      ]
     },
     "execution_count": 61,
     "metadata": {},
     "output_type": "execute_result"
    }
   ],
   "source": [
    "#Create sentiment column \n",
    "\n",
    "data['sentiment'] = data['ratings'].map({5:2,4:2,3:1,2:0,1:0})   \n",
    "data.head()"
   ]
  },
  {
   "cell_type": "code",
   "execution_count": 62,
   "metadata": {},
   "outputs": [
    {
     "data": {
      "text/plain": [
       "2    87.407805\n",
       "1     6.984809\n",
       "0     5.607385\n",
       "Name: sentiment, dtype: float64"
      ]
     },
     "execution_count": 62,
     "metadata": {},
     "output_type": "execute_result"
    }
   ],
   "source": [
    "data.sentiment.value_counts(normalize=True)*100"
   ]
  },
  {
   "cell_type": "markdown",
   "metadata": {},
   "source": [
    "Just over 87% of the ratings are positive."
   ]
  },
  {
   "cell_type": "code",
   "execution_count": 67,
   "metadata": {},
   "outputs": [
    {
     "data": {
      "text/plain": [
       "[5    0.680311\n",
       " 4    0.193767\n",
       " 3    0.069848\n",
       " 2    0.029600\n",
       " 1    0.026474\n",
       " Name: ratings, dtype: float64]"
      ]
     },
     "execution_count": 67,
     "metadata": {},
     "output_type": "execute_result"
    }
   ],
   "source": [
    "sizes_rating"
   ]
  },
  {
   "cell_type": "code",
   "execution_count": 93,
   "metadata": {},
   "outputs": [
    {
     "data": {
      "image/png": "[encoded data removed]",
      "text/plain": [
       "<Figure size 720x432 with 1 Axes>"
      ]
     },
     "metadata": {},
     "output_type": "display_data"
    }
   ],
   "source": [
    "plt.figure(figsize=(10,6))\n",
    "colors=sns.color_palette(\"husl\")\n",
    " \n",
    "plt.pie(data['sentiment'].value_counts(),colors=colors,labels=['Positive','Neutral','Negative'],autopct='%1.2f%%',shadow=True)\n",
    "plt.title('Sentiment',fontsize=20)\n",
    "\n",
    "plt.show()"
   ]
  },
  {
   "cell_type": "code",
   "execution_count": 89,
   "metadata": {},
   "outputs": [
    {
     "data": {
      "image/png": "[encoded data removed]",
      "text/plain": [
       "<Figure size 432x288 with 1 Axes>"
      ]
     },
     "metadata": {},
     "output_type": "display_data"
    }
   ],
   "source": [
    "# Data to plot\n",
    "labels=['Positive','Neutral','Negative']\n",
    "sizes = data['sentiment'].value_counts()\n",
    "labels_rating = ['5','4','3','2','1']\n",
    "sizes_rating = data['ratings'].value_counts()\n",
    "\n",
    "colors_rating=sns.color_palette(\"crest\")\n",
    "colors=sns.color_palette(\"flare\")\n",
    "explode = (0.1,0.1,0.1) \n",
    "explode_ratings = (0.1,0.1,0.1,0.1,0.1)\n",
    "\n",
    "# Plot\n",
    "plt.pie(sizes, labels=labels, colors=colors, startangle=90,frame=True,explode=explode)\n",
    "plt.pie(sizes_rating,labels=labels_rating,colors=colors_rating,radius=0.75,startangle=90,explode=explode_ratings)\n",
    "centre_circle = plt.Circle((0,0),0.5,color='black', fc='white',linewidth=0)\n",
    "fig = plt.gcf()\n",
    "fig.gca().add_artist(centre_circle)\n",
    " \n",
    "plt.axis('equal')\n",
    "plt.tight_layout()\n",
    "plt.show()"
   ]
  },
  {
   "cell_type": "markdown",
   "metadata": {},
   "source": [
    "* reprocess df with data preprocess function defined above\n",
    "* create string of positive, negative, neutral for word cloud\n",
    "* split into train and test\n",
    "* create models"
   ]
  },
  {
   "cell_type": "code",
   "execution_count": null,
   "metadata": {},
   "outputs": [],
   "source": []
  }
 ],
 "metadata": {
  "kernelspec": {
   "display_name": "Python 3",
   "language": "python",
   "name": "python3"
  },
  "language_info": {
   "codemirror_mode": {
    "name": "ipython",
    "version": 3
   },
   "file_extension": ".py",
   "mimetype": "text/x-python",
   "name": "python",
   "nbconvert_exporter": "python",
   "pygments_lexer": "ipython3",
   "version": "3.7.9"
  }
 },
 "nbformat": 4,
 "nbformat_minor": 4
}
